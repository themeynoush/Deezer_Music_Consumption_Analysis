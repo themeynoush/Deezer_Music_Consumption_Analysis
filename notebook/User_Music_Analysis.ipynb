{
 "cells": [
  {
   "cell_type": "markdown",
   "metadata": {},
   "source": [
    "# Deezer Music Consumption Analysis\n",
    "## Life cycle of the project\n",
    "\n",
    "\n",
    "* Understanding the Problem Statement\n",
    "* Data Collection\n",
    "* Data Checks to perform\n",
    "* Exploratory Data Analysis\n",
    "* Implementing the Model\n",
    "* Evaluating the Model"
   ]
  },
  {
   "cell_type": "markdown",
   "metadata": {},
   "source": [
    "# 1) Problem Statement\n",
    "\n",
    "* Providing a modelling of a tag system and studying the similarities between tags, in order to gain a better understanding of the musical consumption of Deezer users - notably regarding the content played, searched and saved."
   ]
  },
  {
   "cell_type": "markdown",
   "metadata": {},
   "source": [
    "# 2) Data Collection\n",
    "* The dataset is released in the framework of the 2nd International Workshop on Information Heterogeneity and Fusion in Recommender Systems (HetRec 2011) http://ir.ii.uam.es/hetrec2011"
   ]
  },
  {
   "cell_type": "markdown",
   "metadata": {},
   "source": [
    "## 2.1) Importing data and the required packages"
   ]
  },
  {
   "cell_type": "markdown",
   "metadata": {},
   "source": [
    "### 2.1.1) Importing Pandas, Numpy, Matplotlib, Seaborn"
   ]
  },
  {
   "cell_type": "code",
   "execution_count": 74,
   "metadata": {},
   "outputs": [],
   "source": [
    "import numpy as np\n",
    "import pandas as pd\n",
    "import seaborn as sns\n",
    "import matplotlib.pyplot as plt\n",
    "import warnings\n",
    "# Model liberaries\n",
    "from sklearn.decomposition import TruncatedSVD\n",
    "from sklearn.metrics.pairwise import cosine_similarity\n",
    "\n",
    "\n",
    "warnings.filterwarnings('ignore')"
   ]
  },
  {
   "cell_type": "markdown",
   "metadata": {},
   "source": [
    "### 2.1.2) Import data hetrec2011-lastfm-2k and read each file as Pandas DataFrame"
   ]
  },
  {
   "cell_type": "code",
   "execution_count": 2,
   "metadata": {},
   "outputs": [],
   "source": [
    "artists_df = pd.read_csv('data/artists.dat', sep='\\t', names=['artistID', 'name', 'url', 'pictureURL'])\n",
    "tags_df = pd.read_csv('data/tags.dat', sep='\\t', names=['tagID', 'tagValue'], encoding='latin-1')\n",
    "user_artists_df = pd.read_csv('data/user_artists.dat', sep='\\t', names=['userID', 'artistID', 'weight'])\n",
    "user_taggedartists_df = pd.read_csv('data/user_taggedartists.dat', sep='\\t', names=['userID', 'artistID', 'tagID', 'day', 'month', 'year'])\n",
    "user_taggedartists_timestamps_df = pd.read_csv('data/user_taggedartists-timestamps.dat', sep='\\t', names=['userID', 'artistID', 'tagID', 'timestamp'])\n",
    "user_friends_df = pd.read_csv('data/user_friends.dat', sep='\\t', names=['userID', 'friendID'])"
   ]
  },
  {
   "cell_type": "markdown",
   "metadata": {},
   "source": [
    "### 2.1.3) Display the information and the first five rows of each DataFrame"
   ]
  },
  {
   "cell_type": "code",
   "execution_count": 3,
   "metadata": {},
   "outputs": [
    {
     "data": {
      "text/html": [
       "<div>\n",
       "<style scoped>\n",
       "    .dataframe tbody tr th:only-of-type {\n",
       "        vertical-align: middle;\n",
       "    }\n",
       "\n",
       "    .dataframe tbody tr th {\n",
       "        vertical-align: top;\n",
       "    }\n",
       "\n",
       "    .dataframe thead th {\n",
       "        text-align: right;\n",
       "    }\n",
       "</style>\n",
       "<table border=\"1\" class=\"dataframe\">\n",
       "  <thead>\n",
       "    <tr style=\"text-align: right;\">\n",
       "      <th></th>\n",
       "      <th>artistID</th>\n",
       "      <th>name</th>\n",
       "      <th>url</th>\n",
       "      <th>pictureURL</th>\n",
       "    </tr>\n",
       "  </thead>\n",
       "  <tbody>\n",
       "    <tr>\n",
       "      <th>0</th>\n",
       "      <td>id</td>\n",
       "      <td>name</td>\n",
       "      <td>url</td>\n",
       "      <td>pictureURL</td>\n",
       "    </tr>\n",
       "    <tr>\n",
       "      <th>1</th>\n",
       "      <td>1</td>\n",
       "      <td>MALICE MIZER</td>\n",
       "      <td>http://www.last.fm/music/MALICE+MIZER</td>\n",
       "      <td>http://userserve-ak.last.fm/serve/252/10808.jpg</td>\n",
       "    </tr>\n",
       "    <tr>\n",
       "      <th>2</th>\n",
       "      <td>2</td>\n",
       "      <td>Diary of Dreams</td>\n",
       "      <td>http://www.last.fm/music/Diary+of+Dreams</td>\n",
       "      <td>http://userserve-ak.last.fm/serve/252/3052066.jpg</td>\n",
       "    </tr>\n",
       "    <tr>\n",
       "      <th>3</th>\n",
       "      <td>3</td>\n",
       "      <td>Carpathian Forest</td>\n",
       "      <td>http://www.last.fm/music/Carpathian+Forest</td>\n",
       "      <td>http://userserve-ak.last.fm/serve/252/40222717...</td>\n",
       "    </tr>\n",
       "    <tr>\n",
       "      <th>4</th>\n",
       "      <td>4</td>\n",
       "      <td>Moi dix Mois</td>\n",
       "      <td>http://www.last.fm/music/Moi+dix+Mois</td>\n",
       "      <td>http://userserve-ak.last.fm/serve/252/54697835...</td>\n",
       "    </tr>\n",
       "  </tbody>\n",
       "</table>\n",
       "</div>"
      ],
      "text/plain": [
       "  artistID               name                                         url  \\\n",
       "0       id               name                                         url   \n",
       "1        1       MALICE MIZER       http://www.last.fm/music/MALICE+MIZER   \n",
       "2        2    Diary of Dreams    http://www.last.fm/music/Diary+of+Dreams   \n",
       "3        3  Carpathian Forest  http://www.last.fm/music/Carpathian+Forest   \n",
       "4        4       Moi dix Mois       http://www.last.fm/music/Moi+dix+Mois   \n",
       "\n",
       "                                          pictureURL  \n",
       "0                                         pictureURL  \n",
       "1    http://userserve-ak.last.fm/serve/252/10808.jpg  \n",
       "2  http://userserve-ak.last.fm/serve/252/3052066.jpg  \n",
       "3  http://userserve-ak.last.fm/serve/252/40222717...  \n",
       "4  http://userserve-ak.last.fm/serve/252/54697835...  "
      ]
     },
     "execution_count": 3,
     "metadata": {},
     "output_type": "execute_result"
    }
   ],
   "source": [
    "artists_df.head()"
   ]
  },
  {
   "cell_type": "code",
   "execution_count": 4,
   "metadata": {},
   "outputs": [
    {
     "data": {
      "text/html": [
       "<div>\n",
       "<style scoped>\n",
       "    .dataframe tbody tr th:only-of-type {\n",
       "        vertical-align: middle;\n",
       "    }\n",
       "\n",
       "    .dataframe tbody tr th {\n",
       "        vertical-align: top;\n",
       "    }\n",
       "\n",
       "    .dataframe thead th {\n",
       "        text-align: right;\n",
       "    }\n",
       "</style>\n",
       "<table border=\"1\" class=\"dataframe\">\n",
       "  <thead>\n",
       "    <tr style=\"text-align: right;\">\n",
       "      <th></th>\n",
       "      <th>tagID</th>\n",
       "      <th>tagValue</th>\n",
       "    </tr>\n",
       "  </thead>\n",
       "  <tbody>\n",
       "    <tr>\n",
       "      <th>0</th>\n",
       "      <td>tagID</td>\n",
       "      <td>tagValue</td>\n",
       "    </tr>\n",
       "    <tr>\n",
       "      <th>1</th>\n",
       "      <td>1</td>\n",
       "      <td>metal</td>\n",
       "    </tr>\n",
       "    <tr>\n",
       "      <th>2</th>\n",
       "      <td>2</td>\n",
       "      <td>alternative metal</td>\n",
       "    </tr>\n",
       "    <tr>\n",
       "      <th>3</th>\n",
       "      <td>3</td>\n",
       "      <td>goth rock</td>\n",
       "    </tr>\n",
       "    <tr>\n",
       "      <th>4</th>\n",
       "      <td>4</td>\n",
       "      <td>black metal</td>\n",
       "    </tr>\n",
       "  </tbody>\n",
       "</table>\n",
       "</div>"
      ],
      "text/plain": [
       "   tagID           tagValue\n",
       "0  tagID           tagValue\n",
       "1      1              metal\n",
       "2      2  alternative metal\n",
       "3      3          goth rock\n",
       "4      4        black metal"
      ]
     },
     "execution_count": 4,
     "metadata": {},
     "output_type": "execute_result"
    }
   ],
   "source": [
    "tags_df.head()"
   ]
  },
  {
   "cell_type": "code",
   "execution_count": 5,
   "metadata": {},
   "outputs": [
    {
     "data": {
      "text/html": [
       "<div>\n",
       "<style scoped>\n",
       "    .dataframe tbody tr th:only-of-type {\n",
       "        vertical-align: middle;\n",
       "    }\n",
       "\n",
       "    .dataframe tbody tr th {\n",
       "        vertical-align: top;\n",
       "    }\n",
       "\n",
       "    .dataframe thead th {\n",
       "        text-align: right;\n",
       "    }\n",
       "</style>\n",
       "<table border=\"1\" class=\"dataframe\">\n",
       "  <thead>\n",
       "    <tr style=\"text-align: right;\">\n",
       "      <th></th>\n",
       "      <th>userID</th>\n",
       "      <th>artistID</th>\n",
       "      <th>weight</th>\n",
       "    </tr>\n",
       "  </thead>\n",
       "  <tbody>\n",
       "    <tr>\n",
       "      <th>0</th>\n",
       "      <td>userID</td>\n",
       "      <td>artistID</td>\n",
       "      <td>weight</td>\n",
       "    </tr>\n",
       "    <tr>\n",
       "      <th>1</th>\n",
       "      <td>2</td>\n",
       "      <td>51</td>\n",
       "      <td>13883</td>\n",
       "    </tr>\n",
       "    <tr>\n",
       "      <th>2</th>\n",
       "      <td>2</td>\n",
       "      <td>52</td>\n",
       "      <td>11690</td>\n",
       "    </tr>\n",
       "    <tr>\n",
       "      <th>3</th>\n",
       "      <td>2</td>\n",
       "      <td>53</td>\n",
       "      <td>11351</td>\n",
       "    </tr>\n",
       "    <tr>\n",
       "      <th>4</th>\n",
       "      <td>2</td>\n",
       "      <td>54</td>\n",
       "      <td>10300</td>\n",
       "    </tr>\n",
       "  </tbody>\n",
       "</table>\n",
       "</div>"
      ],
      "text/plain": [
       "   userID  artistID  weight\n",
       "0  userID  artistID  weight\n",
       "1       2        51   13883\n",
       "2       2        52   11690\n",
       "3       2        53   11351\n",
       "4       2        54   10300"
      ]
     },
     "execution_count": 5,
     "metadata": {},
     "output_type": "execute_result"
    }
   ],
   "source": [
    "user_artists_df.head()"
   ]
  },
  {
   "cell_type": "code",
   "execution_count": 6,
   "metadata": {},
   "outputs": [
    {
     "data": {
      "text/html": [
       "<div>\n",
       "<style scoped>\n",
       "    .dataframe tbody tr th:only-of-type {\n",
       "        vertical-align: middle;\n",
       "    }\n",
       "\n",
       "    .dataframe tbody tr th {\n",
       "        vertical-align: top;\n",
       "    }\n",
       "\n",
       "    .dataframe thead th {\n",
       "        text-align: right;\n",
       "    }\n",
       "</style>\n",
       "<table border=\"1\" class=\"dataframe\">\n",
       "  <thead>\n",
       "    <tr style=\"text-align: right;\">\n",
       "      <th></th>\n",
       "      <th>userID</th>\n",
       "      <th>friendID</th>\n",
       "    </tr>\n",
       "  </thead>\n",
       "  <tbody>\n",
       "    <tr>\n",
       "      <th>0</th>\n",
       "      <td>userID</td>\n",
       "      <td>friendID</td>\n",
       "    </tr>\n",
       "    <tr>\n",
       "      <th>1</th>\n",
       "      <td>2</td>\n",
       "      <td>275</td>\n",
       "    </tr>\n",
       "    <tr>\n",
       "      <th>2</th>\n",
       "      <td>2</td>\n",
       "      <td>428</td>\n",
       "    </tr>\n",
       "    <tr>\n",
       "      <th>3</th>\n",
       "      <td>2</td>\n",
       "      <td>515</td>\n",
       "    </tr>\n",
       "    <tr>\n",
       "      <th>4</th>\n",
       "      <td>2</td>\n",
       "      <td>761</td>\n",
       "    </tr>\n",
       "  </tbody>\n",
       "</table>\n",
       "</div>"
      ],
      "text/plain": [
       "   userID  friendID\n",
       "0  userID  friendID\n",
       "1       2       275\n",
       "2       2       428\n",
       "3       2       515\n",
       "4       2       761"
      ]
     },
     "execution_count": 6,
     "metadata": {},
     "output_type": "execute_result"
    }
   ],
   "source": [
    "user_friends_df.head()"
   ]
  },
  {
   "cell_type": "code",
   "execution_count": 7,
   "metadata": {},
   "outputs": [
    {
     "data": {
      "text/html": [
       "<div>\n",
       "<style scoped>\n",
       "    .dataframe tbody tr th:only-of-type {\n",
       "        vertical-align: middle;\n",
       "    }\n",
       "\n",
       "    .dataframe tbody tr th {\n",
       "        vertical-align: top;\n",
       "    }\n",
       "\n",
       "    .dataframe thead th {\n",
       "        text-align: right;\n",
       "    }\n",
       "</style>\n",
       "<table border=\"1\" class=\"dataframe\">\n",
       "  <thead>\n",
       "    <tr style=\"text-align: right;\">\n",
       "      <th></th>\n",
       "      <th>userID</th>\n",
       "      <th>artistID</th>\n",
       "      <th>tagID</th>\n",
       "      <th>day</th>\n",
       "      <th>month</th>\n",
       "      <th>year</th>\n",
       "    </tr>\n",
       "  </thead>\n",
       "  <tbody>\n",
       "    <tr>\n",
       "      <th>0</th>\n",
       "      <td>userID</td>\n",
       "      <td>artistID</td>\n",
       "      <td>tagID</td>\n",
       "      <td>day</td>\n",
       "      <td>month</td>\n",
       "      <td>year</td>\n",
       "    </tr>\n",
       "    <tr>\n",
       "      <th>1</th>\n",
       "      <td>2</td>\n",
       "      <td>52</td>\n",
       "      <td>13</td>\n",
       "      <td>1</td>\n",
       "      <td>4</td>\n",
       "      <td>2009</td>\n",
       "    </tr>\n",
       "    <tr>\n",
       "      <th>2</th>\n",
       "      <td>2</td>\n",
       "      <td>52</td>\n",
       "      <td>15</td>\n",
       "      <td>1</td>\n",
       "      <td>4</td>\n",
       "      <td>2009</td>\n",
       "    </tr>\n",
       "    <tr>\n",
       "      <th>3</th>\n",
       "      <td>2</td>\n",
       "      <td>52</td>\n",
       "      <td>18</td>\n",
       "      <td>1</td>\n",
       "      <td>4</td>\n",
       "      <td>2009</td>\n",
       "    </tr>\n",
       "    <tr>\n",
       "      <th>4</th>\n",
       "      <td>2</td>\n",
       "      <td>52</td>\n",
       "      <td>21</td>\n",
       "      <td>1</td>\n",
       "      <td>4</td>\n",
       "      <td>2009</td>\n",
       "    </tr>\n",
       "  </tbody>\n",
       "</table>\n",
       "</div>"
      ],
      "text/plain": [
       "   userID  artistID  tagID  day  month  year\n",
       "0  userID  artistID  tagID  day  month  year\n",
       "1       2        52     13    1      4  2009\n",
       "2       2        52     15    1      4  2009\n",
       "3       2        52     18    1      4  2009\n",
       "4       2        52     21    1      4  2009"
      ]
     },
     "execution_count": 7,
     "metadata": {},
     "output_type": "execute_result"
    }
   ],
   "source": [
    "user_taggedartists_df.head()"
   ]
  },
  {
   "cell_type": "code",
   "execution_count": 8,
   "metadata": {},
   "outputs": [
    {
     "data": {
      "text/html": [
       "<div>\n",
       "<style scoped>\n",
       "    .dataframe tbody tr th:only-of-type {\n",
       "        vertical-align: middle;\n",
       "    }\n",
       "\n",
       "    .dataframe tbody tr th {\n",
       "        vertical-align: top;\n",
       "    }\n",
       "\n",
       "    .dataframe thead th {\n",
       "        text-align: right;\n",
       "    }\n",
       "</style>\n",
       "<table border=\"1\" class=\"dataframe\">\n",
       "  <thead>\n",
       "    <tr style=\"text-align: right;\">\n",
       "      <th></th>\n",
       "      <th>userID</th>\n",
       "      <th>artistID</th>\n",
       "      <th>tagID</th>\n",
       "      <th>timestamp</th>\n",
       "    </tr>\n",
       "  </thead>\n",
       "  <tbody>\n",
       "    <tr>\n",
       "      <th>0</th>\n",
       "      <td>userID</td>\n",
       "      <td>artistID</td>\n",
       "      <td>tagID</td>\n",
       "      <td>timestamp</td>\n",
       "    </tr>\n",
       "    <tr>\n",
       "      <th>1</th>\n",
       "      <td>2</td>\n",
       "      <td>52</td>\n",
       "      <td>13</td>\n",
       "      <td>1238536800000</td>\n",
       "    </tr>\n",
       "    <tr>\n",
       "      <th>2</th>\n",
       "      <td>2</td>\n",
       "      <td>52</td>\n",
       "      <td>15</td>\n",
       "      <td>1238536800000</td>\n",
       "    </tr>\n",
       "    <tr>\n",
       "      <th>3</th>\n",
       "      <td>2</td>\n",
       "      <td>52</td>\n",
       "      <td>18</td>\n",
       "      <td>1238536800000</td>\n",
       "    </tr>\n",
       "    <tr>\n",
       "      <th>4</th>\n",
       "      <td>2</td>\n",
       "      <td>52</td>\n",
       "      <td>21</td>\n",
       "      <td>1238536800000</td>\n",
       "    </tr>\n",
       "  </tbody>\n",
       "</table>\n",
       "</div>"
      ],
      "text/plain": [
       "   userID  artistID  tagID      timestamp\n",
       "0  userID  artistID  tagID      timestamp\n",
       "1       2        52     13  1238536800000\n",
       "2       2        52     15  1238536800000\n",
       "3       2        52     18  1238536800000\n",
       "4       2        52     21  1238536800000"
      ]
     },
     "execution_count": 8,
     "metadata": {},
     "output_type": "execute_result"
    }
   ],
   "source": [
    "user_taggedartists_timestamps_df.head()"
   ]
  },
  {
   "cell_type": "markdown",
   "metadata": {},
   "source": [
    "### 2.1.4) Show the shape of each DataFrame"
   ]
  },
  {
   "cell_type": "code",
   "execution_count": 9,
   "metadata": {},
   "outputs": [
    {
     "name": "stdout",
     "output_type": "stream",
     "text": [
      "1- artists_df dimentions:  (17633, 4)\n",
      "2- tags_df:  (11947, 2)\n",
      "3- user_artists_df dimentions:  (92835, 3)\n",
      "4- user_friends_df dimentions:  (25435, 2)\n",
      "5- user_taggedartists_timestamps_df dimentions:  (186480, 4)\n",
      "6- user_taggedartists_df dimentions:  (186480, 6)\n"
     ]
    }
   ],
   "source": [
    "print('1- artists_df dimentions: ', artists_df.shape)\n",
    "print('2- tags_df: ', tags_df.shape)\n",
    "print('3- user_artists_df dimentions: ', user_artists_df.shape)\n",
    "print('4- user_friends_df dimentions: ', user_friends_df.shape)\n",
    "print('5- user_taggedartists_timestamps_df dimentions: ', user_taggedartists_timestamps_df.shape)\n",
    "print('6- user_taggedartists_df dimentions: ', user_taggedartists_df.shape)"
   ]
  },
  {
   "cell_type": "markdown",
   "metadata": {},
   "source": [
    "## 2.2) Dataset information\n",
    "\n",
    "The package contains 6 files with the following description:\n",
    "   \n",
    "   * artists.dat\n",
    "   \n",
    "     This file contains information about music artists listened and tagged by the users.\n",
    "   \n",
    "   * tags.dat\n",
    "   \n",
    "   \t This file contains the set of tags available in the dataset.\n",
    "\n",
    "   * user_artists.dat\n",
    "   \n",
    "     This file contains the artists listened by each user.\n",
    "        \n",
    "     It also provides a listening count for each [user, artist] pair.\n",
    "\n",
    "   * user_taggedartists.dat - user_taggedartists-timestamps.dat\n",
    "   \n",
    "     These files contain the tag assignments of artists provided by each particular user.\n",
    "        \n",
    "     They also contain the timestamps when the tag assignments were done.\n",
    "   \n",
    "   * user_friends.dat\n",
    "   \n",
    "   \t These files contain the friend relations between users in the database."
   ]
  },
  {
   "cell_type": "markdown",
   "metadata": {},
   "source": [
    "# 3) Perform Data Check\n",
    "* Check missing values\n",
    "* Check duplicates\n",
    "* Check data types\n",
    "* Check the number of unique values of each column\n",
    "* Check statistics of Dataset\n",
    "* Check various categories present in different categorical columns"
   ]
  },
  {
   "cell_type": "markdown",
   "metadata": {},
   "source": [
    "## 3.1) check missing values in the dataset"
   ]
  },
  {
   "cell_type": "code",
   "execution_count": 10,
   "metadata": {},
   "outputs": [
    {
     "data": {
      "text/plain": [
       "artistID        0\n",
       "name            0\n",
       "url             0\n",
       "pictureURL    444\n",
       "dtype: int64"
      ]
     },
     "execution_count": 10,
     "metadata": {},
     "output_type": "execute_result"
    }
   ],
   "source": [
    "artists_df.isna().sum()"
   ]
  },
  {
   "cell_type": "code",
   "execution_count": 11,
   "metadata": {},
   "outputs": [
    {
     "data": {
      "text/plain": [
       "tagID       0\n",
       "tagValue    0\n",
       "dtype: int64"
      ]
     },
     "execution_count": 11,
     "metadata": {},
     "output_type": "execute_result"
    }
   ],
   "source": [
    "tags_df.isna().sum()"
   ]
  },
  {
   "cell_type": "code",
   "execution_count": 12,
   "metadata": {},
   "outputs": [
    {
     "data": {
      "text/plain": [
       "userID      0\n",
       "artistID    0\n",
       "weight      0\n",
       "dtype: int64"
      ]
     },
     "execution_count": 12,
     "metadata": {},
     "output_type": "execute_result"
    }
   ],
   "source": [
    "user_artists_df.isna().sum()"
   ]
  },
  {
   "cell_type": "code",
   "execution_count": 13,
   "metadata": {},
   "outputs": [
    {
     "data": {
      "text/plain": [
       "userID      0\n",
       "friendID    0\n",
       "dtype: int64"
      ]
     },
     "execution_count": 13,
     "metadata": {},
     "output_type": "execute_result"
    }
   ],
   "source": [
    "user_friends_df.isna().sum()"
   ]
  },
  {
   "cell_type": "code",
   "execution_count": 14,
   "metadata": {},
   "outputs": [
    {
     "data": {
      "text/plain": [
       "userID       0\n",
       "artistID     0\n",
       "tagID        0\n",
       "timestamp    0\n",
       "dtype: int64"
      ]
     },
     "execution_count": 14,
     "metadata": {},
     "output_type": "execute_result"
    }
   ],
   "source": [
    "user_taggedartists_timestamps_df.isna().sum()"
   ]
  },
  {
   "cell_type": "code",
   "execution_count": 15,
   "metadata": {},
   "outputs": [
    {
     "data": {
      "text/plain": [
       "userID      0\n",
       "artistID    0\n",
       "tagID       0\n",
       "day         0\n",
       "month       0\n",
       "year        0\n",
       "dtype: int64"
      ]
     },
     "execution_count": 15,
     "metadata": {},
     "output_type": "execute_result"
    }
   ],
   "source": [
    "user_taggedartists_df.isna().sum()"
   ]
  },
  {
   "cell_type": "markdown",
   "metadata": {},
   "source": [
    "### No missing value found in the whole dataset."
   ]
  },
  {
   "cell_type": "markdown",
   "metadata": {},
   "source": [
    "## 3.2) Check duplicates"
   ]
  },
  {
   "cell_type": "code",
   "execution_count": 16,
   "metadata": {},
   "outputs": [
    {
     "data": {
      "text/plain": [
       "0"
      ]
     },
     "execution_count": 16,
     "metadata": {},
     "output_type": "execute_result"
    }
   ],
   "source": [
    "artists_df.duplicated().sum()"
   ]
  },
  {
   "cell_type": "code",
   "execution_count": 17,
   "metadata": {},
   "outputs": [
    {
     "data": {
      "text/plain": [
       "0"
      ]
     },
     "execution_count": 17,
     "metadata": {},
     "output_type": "execute_result"
    }
   ],
   "source": [
    "tags_df.duplicated().sum()"
   ]
  },
  {
   "cell_type": "code",
   "execution_count": 18,
   "metadata": {},
   "outputs": [
    {
     "data": {
      "text/plain": [
       "0"
      ]
     },
     "execution_count": 18,
     "metadata": {},
     "output_type": "execute_result"
    }
   ],
   "source": [
    "user_artists_df.duplicated().sum()"
   ]
  },
  {
   "cell_type": "code",
   "execution_count": 19,
   "metadata": {},
   "outputs": [
    {
     "data": {
      "text/plain": [
       "0"
      ]
     },
     "execution_count": 19,
     "metadata": {},
     "output_type": "execute_result"
    }
   ],
   "source": [
    "user_friends_df.duplicated().sum()"
   ]
  },
  {
   "cell_type": "code",
   "execution_count": 20,
   "metadata": {},
   "outputs": [
    {
     "data": {
      "text/plain": [
       "0"
      ]
     },
     "execution_count": 20,
     "metadata": {},
     "output_type": "execute_result"
    }
   ],
   "source": [
    "user_taggedartists_timestamps_df.duplicated().sum()"
   ]
  },
  {
   "cell_type": "code",
   "execution_count": 21,
   "metadata": {},
   "outputs": [
    {
     "data": {
      "text/plain": [
       "0"
      ]
     },
     "execution_count": 21,
     "metadata": {},
     "output_type": "execute_result"
    }
   ],
   "source": [
    "user_taggedartists_df.duplicated().sum()"
   ]
  },
  {
   "cell_type": "markdown",
   "metadata": {},
   "source": [
    "### No duplicated value found in the whole dataset"
   ]
  },
  {
   "cell_type": "markdown",
   "metadata": {},
   "source": [
    "## 3.3) Check data types"
   ]
  },
  {
   "cell_type": "code",
   "execution_count": 22,
   "metadata": {},
   "outputs": [
    {
     "name": "stdout",
     "output_type": "stream",
     "text": [
      "<class 'pandas.core.frame.DataFrame'>\n",
      "RangeIndex: 17633 entries, 0 to 17632\n",
      "Data columns (total 4 columns):\n",
      " #   Column      Non-Null Count  Dtype \n",
      "---  ------      --------------  ----- \n",
      " 0   artistID    17633 non-null  object\n",
      " 1   name        17633 non-null  object\n",
      " 2   url         17633 non-null  object\n",
      " 3   pictureURL  17189 non-null  object\n",
      "dtypes: object(4)\n",
      "memory usage: 551.2+ KB\n"
     ]
    }
   ],
   "source": [
    "artists_df.info()"
   ]
  },
  {
   "cell_type": "code",
   "execution_count": 23,
   "metadata": {},
   "outputs": [
    {
     "name": "stdout",
     "output_type": "stream",
     "text": [
      "<class 'pandas.core.frame.DataFrame'>\n",
      "RangeIndex: 11947 entries, 0 to 11946\n",
      "Data columns (total 2 columns):\n",
      " #   Column    Non-Null Count  Dtype \n",
      "---  ------    --------------  ----- \n",
      " 0   tagID     11947 non-null  object\n",
      " 1   tagValue  11947 non-null  object\n",
      "dtypes: object(2)\n",
      "memory usage: 186.8+ KB\n"
     ]
    }
   ],
   "source": [
    "tags_df.info()"
   ]
  },
  {
   "cell_type": "code",
   "execution_count": 24,
   "metadata": {},
   "outputs": [
    {
     "name": "stdout",
     "output_type": "stream",
     "text": [
      "<class 'pandas.core.frame.DataFrame'>\n",
      "RangeIndex: 92835 entries, 0 to 92834\n",
      "Data columns (total 3 columns):\n",
      " #   Column    Non-Null Count  Dtype \n",
      "---  ------    --------------  ----- \n",
      " 0   userID    92835 non-null  object\n",
      " 1   artistID  92835 non-null  object\n",
      " 2   weight    92835 non-null  object\n",
      "dtypes: object(3)\n",
      "memory usage: 2.1+ MB\n"
     ]
    }
   ],
   "source": [
    "user_artists_df.info()"
   ]
  },
  {
   "cell_type": "code",
   "execution_count": 25,
   "metadata": {},
   "outputs": [
    {
     "name": "stdout",
     "output_type": "stream",
     "text": [
      "<class 'pandas.core.frame.DataFrame'>\n",
      "RangeIndex: 186480 entries, 0 to 186479\n",
      "Data columns (total 6 columns):\n",
      " #   Column    Non-Null Count   Dtype \n",
      "---  ------    --------------   ----- \n",
      " 0   userID    186480 non-null  object\n",
      " 1   artistID  186480 non-null  object\n",
      " 2   tagID     186480 non-null  object\n",
      " 3   day       186480 non-null  object\n",
      " 4   month     186480 non-null  object\n",
      " 5   year      186480 non-null  object\n",
      "dtypes: object(6)\n",
      "memory usage: 8.5+ MB\n"
     ]
    }
   ],
   "source": [
    "user_taggedartists_df.info()"
   ]
  },
  {
   "cell_type": "code",
   "execution_count": 26,
   "metadata": {},
   "outputs": [
    {
     "name": "stdout",
     "output_type": "stream",
     "text": [
      "<class 'pandas.core.frame.DataFrame'>\n",
      "RangeIndex: 186480 entries, 0 to 186479\n",
      "Data columns (total 4 columns):\n",
      " #   Column     Non-Null Count   Dtype \n",
      "---  ------     --------------   ----- \n",
      " 0   userID     186480 non-null  object\n",
      " 1   artistID   186480 non-null  object\n",
      " 2   tagID      186480 non-null  object\n",
      " 3   timestamp  186480 non-null  object\n",
      "dtypes: object(4)\n",
      "memory usage: 5.7+ MB\n"
     ]
    }
   ],
   "source": [
    "user_taggedartists_timestamps_df.info()"
   ]
  },
  {
   "cell_type": "code",
   "execution_count": 27,
   "metadata": {},
   "outputs": [
    {
     "name": "stdout",
     "output_type": "stream",
     "text": [
      "<class 'pandas.core.frame.DataFrame'>\n",
      "RangeIndex: 25435 entries, 0 to 25434\n",
      "Data columns (total 2 columns):\n",
      " #   Column    Non-Null Count  Dtype \n",
      "---  ------    --------------  ----- \n",
      " 0   userID    25435 non-null  object\n",
      " 1   friendID  25435 non-null  object\n",
      "dtypes: object(2)\n",
      "memory usage: 397.6+ KB\n"
     ]
    }
   ],
   "source": [
    "user_friends_df.info()"
   ]
  },
  {
   "cell_type": "markdown",
   "metadata": {},
   "source": [
    "## 3.4) Check the number of unique values of each column"
   ]
  },
  {
   "cell_type": "code",
   "execution_count": 28,
   "metadata": {},
   "outputs": [
    {
     "data": {
      "text/plain": [
       "artistID      17633\n",
       "name          17633\n",
       "url           17633\n",
       "pictureURL    17189\n",
       "dtype: int64"
      ]
     },
     "execution_count": 28,
     "metadata": {},
     "output_type": "execute_result"
    }
   ],
   "source": [
    "artists_df.nunique()"
   ]
  },
  {
   "cell_type": "code",
   "execution_count": 29,
   "metadata": {},
   "outputs": [
    {
     "data": {
      "text/plain": [
       "tagID       11947\n",
       "tagValue    11947\n",
       "dtype: int64"
      ]
     },
     "execution_count": 29,
     "metadata": {},
     "output_type": "execute_result"
    }
   ],
   "source": [
    "tags_df.nunique()"
   ]
  },
  {
   "cell_type": "code",
   "execution_count": 30,
   "metadata": {},
   "outputs": [
    {
     "data": {
      "text/plain": [
       "userID       1893\n",
       "artistID    17633\n",
       "weight       5437\n",
       "dtype: int64"
      ]
     },
     "execution_count": 30,
     "metadata": {},
     "output_type": "execute_result"
    }
   ],
   "source": [
    "user_artists_df.nunique()"
   ]
  },
  {
   "cell_type": "code",
   "execution_count": 31,
   "metadata": {},
   "outputs": [
    {
     "data": {
      "text/plain": [
       "userID      1893\n",
       "friendID    1893\n",
       "dtype: int64"
      ]
     },
     "execution_count": 31,
     "metadata": {},
     "output_type": "execute_result"
    }
   ],
   "source": [
    "user_friends_df.nunique()"
   ]
  },
  {
   "cell_type": "code",
   "execution_count": 32,
   "metadata": {},
   "outputs": [
    {
     "data": {
      "text/plain": [
       "userID        1894\n",
       "artistID     18589\n",
       "tagID        11170\n",
       "timestamp     3618\n",
       "dtype: int64"
      ]
     },
     "execution_count": 32,
     "metadata": {},
     "output_type": "execute_result"
    }
   ],
   "source": [
    "user_taggedartists_timestamps_df.nunique()"
   ]
  },
  {
   "cell_type": "code",
   "execution_count": 33,
   "metadata": {},
   "outputs": [
    {
     "data": {
      "text/plain": [
       "userID       1894\n",
       "artistID    18589\n",
       "tagID       11170\n",
       "day             8\n",
       "month          25\n",
       "year           19\n",
       "dtype: int64"
      ]
     },
     "execution_count": 33,
     "metadata": {},
     "output_type": "execute_result"
    }
   ],
   "source": [
    "user_taggedartists_df.nunique()"
   ]
  },
  {
   "cell_type": "markdown",
   "metadata": {},
   "source": [
    "## 3.5) Check statistics of dataset"
   ]
  },
  {
   "cell_type": "code",
   "execution_count": 34,
   "metadata": {},
   "outputs": [
    {
     "data": {
      "text/html": [
       "<div>\n",
       "<style scoped>\n",
       "    .dataframe tbody tr th:only-of-type {\n",
       "        vertical-align: middle;\n",
       "    }\n",
       "\n",
       "    .dataframe tbody tr th {\n",
       "        vertical-align: top;\n",
       "    }\n",
       "\n",
       "    .dataframe thead th {\n",
       "        text-align: right;\n",
       "    }\n",
       "</style>\n",
       "<table border=\"1\" class=\"dataframe\">\n",
       "  <thead>\n",
       "    <tr style=\"text-align: right;\">\n",
       "      <th></th>\n",
       "      <th>artistID</th>\n",
       "      <th>name</th>\n",
       "      <th>url</th>\n",
       "      <th>pictureURL</th>\n",
       "    </tr>\n",
       "  </thead>\n",
       "  <tbody>\n",
       "    <tr>\n",
       "      <th>count</th>\n",
       "      <td>17633</td>\n",
       "      <td>17633</td>\n",
       "      <td>17633</td>\n",
       "      <td>17189</td>\n",
       "    </tr>\n",
       "    <tr>\n",
       "      <th>unique</th>\n",
       "      <td>17633</td>\n",
       "      <td>17633</td>\n",
       "      <td>17633</td>\n",
       "      <td>17189</td>\n",
       "    </tr>\n",
       "    <tr>\n",
       "      <th>top</th>\n",
       "      <td>id</td>\n",
       "      <td>name</td>\n",
       "      <td>url</td>\n",
       "      <td>pictureURL</td>\n",
       "    </tr>\n",
       "    <tr>\n",
       "      <th>freq</th>\n",
       "      <td>1</td>\n",
       "      <td>1</td>\n",
       "      <td>1</td>\n",
       "      <td>1</td>\n",
       "    </tr>\n",
       "  </tbody>\n",
       "</table>\n",
       "</div>"
      ],
      "text/plain": [
       "       artistID   name    url  pictureURL\n",
       "count     17633  17633  17633       17189\n",
       "unique    17633  17633  17633       17189\n",
       "top          id   name    url  pictureURL\n",
       "freq          1      1      1           1"
      ]
     },
     "execution_count": 34,
     "metadata": {},
     "output_type": "execute_result"
    }
   ],
   "source": [
    "artists_df.describe()"
   ]
  },
  {
   "cell_type": "code",
   "execution_count": 35,
   "metadata": {},
   "outputs": [
    {
     "data": {
      "text/html": [
       "<div>\n",
       "<style scoped>\n",
       "    .dataframe tbody tr th:only-of-type {\n",
       "        vertical-align: middle;\n",
       "    }\n",
       "\n",
       "    .dataframe tbody tr th {\n",
       "        vertical-align: top;\n",
       "    }\n",
       "\n",
       "    .dataframe thead th {\n",
       "        text-align: right;\n",
       "    }\n",
       "</style>\n",
       "<table border=\"1\" class=\"dataframe\">\n",
       "  <thead>\n",
       "    <tr style=\"text-align: right;\">\n",
       "      <th></th>\n",
       "      <th>tagID</th>\n",
       "      <th>tagValue</th>\n",
       "    </tr>\n",
       "  </thead>\n",
       "  <tbody>\n",
       "    <tr>\n",
       "      <th>count</th>\n",
       "      <td>11947</td>\n",
       "      <td>11947</td>\n",
       "    </tr>\n",
       "    <tr>\n",
       "      <th>unique</th>\n",
       "      <td>11947</td>\n",
       "      <td>11947</td>\n",
       "    </tr>\n",
       "    <tr>\n",
       "      <th>top</th>\n",
       "      <td>tagID</td>\n",
       "      <td>tagValue</td>\n",
       "    </tr>\n",
       "    <tr>\n",
       "      <th>freq</th>\n",
       "      <td>1</td>\n",
       "      <td>1</td>\n",
       "    </tr>\n",
       "  </tbody>\n",
       "</table>\n",
       "</div>"
      ],
      "text/plain": [
       "        tagID  tagValue\n",
       "count   11947     11947\n",
       "unique  11947     11947\n",
       "top     tagID  tagValue\n",
       "freq        1         1"
      ]
     },
     "execution_count": 35,
     "metadata": {},
     "output_type": "execute_result"
    }
   ],
   "source": [
    "tags_df.describe()"
   ]
  },
  {
   "cell_type": "code",
   "execution_count": 36,
   "metadata": {},
   "outputs": [
    {
     "data": {
      "text/html": [
       "<div>\n",
       "<style scoped>\n",
       "    .dataframe tbody tr th:only-of-type {\n",
       "        vertical-align: middle;\n",
       "    }\n",
       "\n",
       "    .dataframe tbody tr th {\n",
       "        vertical-align: top;\n",
       "    }\n",
       "\n",
       "    .dataframe thead th {\n",
       "        text-align: right;\n",
       "    }\n",
       "</style>\n",
       "<table border=\"1\" class=\"dataframe\">\n",
       "  <thead>\n",
       "    <tr style=\"text-align: right;\">\n",
       "      <th></th>\n",
       "      <th>userID</th>\n",
       "      <th>artistID</th>\n",
       "      <th>weight</th>\n",
       "    </tr>\n",
       "  </thead>\n",
       "  <tbody>\n",
       "    <tr>\n",
       "      <th>count</th>\n",
       "      <td>92835</td>\n",
       "      <td>92835</td>\n",
       "      <td>92835</td>\n",
       "    </tr>\n",
       "    <tr>\n",
       "      <th>unique</th>\n",
       "      <td>1893</td>\n",
       "      <td>17633</td>\n",
       "      <td>5437</td>\n",
       "    </tr>\n",
       "    <tr>\n",
       "      <th>top</th>\n",
       "      <td>1030</td>\n",
       "      <td>89</td>\n",
       "      <td>1</td>\n",
       "    </tr>\n",
       "    <tr>\n",
       "      <th>freq</th>\n",
       "      <td>50</td>\n",
       "      <td>611</td>\n",
       "      <td>636</td>\n",
       "    </tr>\n",
       "  </tbody>\n",
       "</table>\n",
       "</div>"
      ],
      "text/plain": [
       "       userID artistID weight\n",
       "count   92835    92835  92835\n",
       "unique   1893    17633   5437\n",
       "top      1030       89      1\n",
       "freq       50      611    636"
      ]
     },
     "execution_count": 36,
     "metadata": {},
     "output_type": "execute_result"
    }
   ],
   "source": [
    "user_artists_df.describe()"
   ]
  },
  {
   "cell_type": "code",
   "execution_count": 37,
   "metadata": {},
   "outputs": [
    {
     "data": {
      "text/html": [
       "<div>\n",
       "<style scoped>\n",
       "    .dataframe tbody tr th:only-of-type {\n",
       "        vertical-align: middle;\n",
       "    }\n",
       "\n",
       "    .dataframe tbody tr th {\n",
       "        vertical-align: top;\n",
       "    }\n",
       "\n",
       "    .dataframe thead th {\n",
       "        text-align: right;\n",
       "    }\n",
       "</style>\n",
       "<table border=\"1\" class=\"dataframe\">\n",
       "  <thead>\n",
       "    <tr style=\"text-align: right;\">\n",
       "      <th></th>\n",
       "      <th>userID</th>\n",
       "      <th>friendID</th>\n",
       "    </tr>\n",
       "  </thead>\n",
       "  <tbody>\n",
       "    <tr>\n",
       "      <th>count</th>\n",
       "      <td>25435</td>\n",
       "      <td>25435</td>\n",
       "    </tr>\n",
       "    <tr>\n",
       "      <th>unique</th>\n",
       "      <td>1893</td>\n",
       "      <td>1893</td>\n",
       "    </tr>\n",
       "    <tr>\n",
       "      <th>top</th>\n",
       "      <td>1543</td>\n",
       "      <td>1543</td>\n",
       "    </tr>\n",
       "    <tr>\n",
       "      <th>freq</th>\n",
       "      <td>119</td>\n",
       "      <td>119</td>\n",
       "    </tr>\n",
       "  </tbody>\n",
       "</table>\n",
       "</div>"
      ],
      "text/plain": [
       "       userID friendID\n",
       "count   25435    25435\n",
       "unique   1893     1893\n",
       "top      1543     1543\n",
       "freq      119      119"
      ]
     },
     "execution_count": 37,
     "metadata": {},
     "output_type": "execute_result"
    }
   ],
   "source": [
    "user_friends_df.describe()"
   ]
  },
  {
   "cell_type": "code",
   "execution_count": 38,
   "metadata": {},
   "outputs": [
    {
     "data": {
      "text/html": [
       "<div>\n",
       "<style scoped>\n",
       "    .dataframe tbody tr th:only-of-type {\n",
       "        vertical-align: middle;\n",
       "    }\n",
       "\n",
       "    .dataframe tbody tr th {\n",
       "        vertical-align: top;\n",
       "    }\n",
       "\n",
       "    .dataframe thead th {\n",
       "        text-align: right;\n",
       "    }\n",
       "</style>\n",
       "<table border=\"1\" class=\"dataframe\">\n",
       "  <thead>\n",
       "    <tr style=\"text-align: right;\">\n",
       "      <th></th>\n",
       "      <th>userID</th>\n",
       "      <th>artistID</th>\n",
       "      <th>tagID</th>\n",
       "      <th>timestamp</th>\n",
       "    </tr>\n",
       "  </thead>\n",
       "  <tbody>\n",
       "    <tr>\n",
       "      <th>count</th>\n",
       "      <td>186480</td>\n",
       "      <td>186480</td>\n",
       "      <td>186480</td>\n",
       "      <td>186480</td>\n",
       "    </tr>\n",
       "    <tr>\n",
       "      <th>unique</th>\n",
       "      <td>1894</td>\n",
       "      <td>18589</td>\n",
       "      <td>11170</td>\n",
       "      <td>3618</td>\n",
       "    </tr>\n",
       "    <tr>\n",
       "      <th>top</th>\n",
       "      <td>1672</td>\n",
       "      <td>289</td>\n",
       "      <td>73</td>\n",
       "      <td>1280613600000</td>\n",
       "    </tr>\n",
       "    <tr>\n",
       "      <th>freq</th>\n",
       "      <td>2609</td>\n",
       "      <td>701</td>\n",
       "      <td>5325</td>\n",
       "      <td>3847</td>\n",
       "    </tr>\n",
       "  </tbody>\n",
       "</table>\n",
       "</div>"
      ],
      "text/plain": [
       "        userID artistID   tagID      timestamp\n",
       "count   186480   186480  186480         186480\n",
       "unique    1894    18589   11170           3618\n",
       "top       1672      289      73  1280613600000\n",
       "freq      2609      701    5325           3847"
      ]
     },
     "execution_count": 38,
     "metadata": {},
     "output_type": "execute_result"
    }
   ],
   "source": [
    "user_taggedartists_timestamps_df.describe()"
   ]
  },
  {
   "cell_type": "code",
   "execution_count": 39,
   "metadata": {},
   "outputs": [
    {
     "data": {
      "text/html": [
       "<div>\n",
       "<style scoped>\n",
       "    .dataframe tbody tr th:only-of-type {\n",
       "        vertical-align: middle;\n",
       "    }\n",
       "\n",
       "    .dataframe tbody tr th {\n",
       "        vertical-align: top;\n",
       "    }\n",
       "\n",
       "    .dataframe thead th {\n",
       "        text-align: right;\n",
       "    }\n",
       "</style>\n",
       "<table border=\"1\" class=\"dataframe\">\n",
       "  <thead>\n",
       "    <tr style=\"text-align: right;\">\n",
       "      <th></th>\n",
       "      <th>userID</th>\n",
       "      <th>artistID</th>\n",
       "      <th>tagID</th>\n",
       "      <th>day</th>\n",
       "      <th>month</th>\n",
       "      <th>year</th>\n",
       "    </tr>\n",
       "  </thead>\n",
       "  <tbody>\n",
       "    <tr>\n",
       "      <th>count</th>\n",
       "      <td>186480</td>\n",
       "      <td>186480</td>\n",
       "      <td>186480</td>\n",
       "      <td>186480</td>\n",
       "      <td>186480</td>\n",
       "      <td>186480</td>\n",
       "    </tr>\n",
       "    <tr>\n",
       "      <th>unique</th>\n",
       "      <td>1894</td>\n",
       "      <td>18589</td>\n",
       "      <td>11170</td>\n",
       "      <td>8</td>\n",
       "      <td>25</td>\n",
       "      <td>19</td>\n",
       "    </tr>\n",
       "    <tr>\n",
       "      <th>top</th>\n",
       "      <td>1672</td>\n",
       "      <td>289</td>\n",
       "      <td>73</td>\n",
       "      <td>1</td>\n",
       "      <td>8</td>\n",
       "      <td>2010</td>\n",
       "    </tr>\n",
       "    <tr>\n",
       "      <th>freq</th>\n",
       "      <td>2609</td>\n",
       "      <td>701</td>\n",
       "      <td>5325</td>\n",
       "      <td>128480</td>\n",
       "      <td>12704</td>\n",
       "      <td>37474</td>\n",
       "    </tr>\n",
       "  </tbody>\n",
       "</table>\n",
       "</div>"
      ],
      "text/plain": [
       "        userID artistID   tagID     day   month    year\n",
       "count   186480   186480  186480  186480  186480  186480\n",
       "unique    1894    18589   11170       8      25      19\n",
       "top       1672      289      73       1       8    2010\n",
       "freq      2609      701    5325  128480   12704   37474"
      ]
     },
     "execution_count": 39,
     "metadata": {},
     "output_type": "execute_result"
    }
   ],
   "source": [
    "user_taggedartists_df.describe()"
   ]
  },
  {
   "cell_type": "markdown",
   "metadata": {},
   "source": [
    "# 4) Perform Data Preprocessing and Feature Engineering"
   ]
  },
  {
   "cell_type": "markdown",
   "metadata": {},
   "source": [
    "## 4.1) Combining relevant information \n",
    "### From different files we are combining relevant information to create a unified representation of user-music interactions and tags."
   ]
  },
  {
   "cell_type": "markdown",
   "metadata": {},
   "source": [
    "### user_artists_df with artists_df is merged to get artist names. The first five row of the new dataframe user_music_df is represnted as follow:"
   ]
  },
  {
   "cell_type": "code",
   "execution_count": 40,
   "metadata": {},
   "outputs": [
    {
     "data": {
      "text/html": [
       "<div>\n",
       "<style scoped>\n",
       "    .dataframe tbody tr th:only-of-type {\n",
       "        vertical-align: middle;\n",
       "    }\n",
       "\n",
       "    .dataframe tbody tr th {\n",
       "        vertical-align: top;\n",
       "    }\n",
       "\n",
       "    .dataframe thead th {\n",
       "        text-align: right;\n",
       "    }\n",
       "</style>\n",
       "<table border=\"1\" class=\"dataframe\">\n",
       "  <thead>\n",
       "    <tr style=\"text-align: right;\">\n",
       "      <th></th>\n",
       "      <th>userID</th>\n",
       "      <th>artistID</th>\n",
       "      <th>weight</th>\n",
       "      <th>name</th>\n",
       "    </tr>\n",
       "  </thead>\n",
       "  <tbody>\n",
       "    <tr>\n",
       "      <th>0</th>\n",
       "      <td>userID</td>\n",
       "      <td>artistID</td>\n",
       "      <td>weight</td>\n",
       "      <td>NaN</td>\n",
       "    </tr>\n",
       "    <tr>\n",
       "      <th>1</th>\n",
       "      <td>2</td>\n",
       "      <td>51</td>\n",
       "      <td>13883</td>\n",
       "      <td>Duran Duran</td>\n",
       "    </tr>\n",
       "    <tr>\n",
       "      <th>2</th>\n",
       "      <td>2</td>\n",
       "      <td>52</td>\n",
       "      <td>11690</td>\n",
       "      <td>Morcheeba</td>\n",
       "    </tr>\n",
       "    <tr>\n",
       "      <th>3</th>\n",
       "      <td>2</td>\n",
       "      <td>53</td>\n",
       "      <td>11351</td>\n",
       "      <td>Air</td>\n",
       "    </tr>\n",
       "    <tr>\n",
       "      <th>4</th>\n",
       "      <td>2</td>\n",
       "      <td>54</td>\n",
       "      <td>10300</td>\n",
       "      <td>Hooverphonic</td>\n",
       "    </tr>\n",
       "    <tr>\n",
       "      <th>5</th>\n",
       "      <td>2</td>\n",
       "      <td>55</td>\n",
       "      <td>8983</td>\n",
       "      <td>Kylie Minogue</td>\n",
       "    </tr>\n",
       "    <tr>\n",
       "      <th>6</th>\n",
       "      <td>2</td>\n",
       "      <td>56</td>\n",
       "      <td>6152</td>\n",
       "      <td>Daft Punk</td>\n",
       "    </tr>\n",
       "    <tr>\n",
       "      <th>7</th>\n",
       "      <td>2</td>\n",
       "      <td>57</td>\n",
       "      <td>5955</td>\n",
       "      <td>Thievery Corporation</td>\n",
       "    </tr>\n",
       "    <tr>\n",
       "      <th>8</th>\n",
       "      <td>2</td>\n",
       "      <td>58</td>\n",
       "      <td>4616</td>\n",
       "      <td>Goldfrapp</td>\n",
       "    </tr>\n",
       "    <tr>\n",
       "      <th>9</th>\n",
       "      <td>2</td>\n",
       "      <td>59</td>\n",
       "      <td>4337</td>\n",
       "      <td>New Order</td>\n",
       "    </tr>\n",
       "  </tbody>\n",
       "</table>\n",
       "</div>"
      ],
      "text/plain": [
       "   userID  artistID  weight                  name\n",
       "0  userID  artistID  weight                   NaN\n",
       "1       2        51   13883           Duran Duran\n",
       "2       2        52   11690             Morcheeba\n",
       "3       2        53   11351                   Air\n",
       "4       2        54   10300          Hooverphonic\n",
       "5       2        55    8983         Kylie Minogue\n",
       "6       2        56    6152             Daft Punk\n",
       "7       2        57    5955  Thievery Corporation\n",
       "8       2        58    4616             Goldfrapp\n",
       "9       2        59    4337             New Order"
      ]
     },
     "execution_count": 40,
     "metadata": {},
     "output_type": "execute_result"
    }
   ],
   "source": [
    "user_music_df = user_artists_df.merge(artists_df[['artistID', 'name']], how='left')\n",
    "user_music_df.head(10)"
   ]
  },
  {
   "cell_type": "markdown",
   "metadata": {},
   "source": [
    "### user_taggedartists_df with tags_df is merged to get tag values. The first five row of the new dataframe user_tagged_df is represnted as follow:"
   ]
  },
  {
   "cell_type": "code",
   "execution_count": 41,
   "metadata": {},
   "outputs": [
    {
     "data": {
      "text/html": [
       "<div>\n",
       "<style scoped>\n",
       "    .dataframe tbody tr th:only-of-type {\n",
       "        vertical-align: middle;\n",
       "    }\n",
       "\n",
       "    .dataframe tbody tr th {\n",
       "        vertical-align: top;\n",
       "    }\n",
       "\n",
       "    .dataframe thead th {\n",
       "        text-align: right;\n",
       "    }\n",
       "</style>\n",
       "<table border=\"1\" class=\"dataframe\">\n",
       "  <thead>\n",
       "    <tr style=\"text-align: right;\">\n",
       "      <th></th>\n",
       "      <th>userID</th>\n",
       "      <th>artistID</th>\n",
       "      <th>tagID</th>\n",
       "      <th>day</th>\n",
       "      <th>month</th>\n",
       "      <th>year</th>\n",
       "      <th>tagValue</th>\n",
       "    </tr>\n",
       "  </thead>\n",
       "  <tbody>\n",
       "    <tr>\n",
       "      <th>0</th>\n",
       "      <td>userID</td>\n",
       "      <td>artistID</td>\n",
       "      <td>tagID</td>\n",
       "      <td>day</td>\n",
       "      <td>month</td>\n",
       "      <td>year</td>\n",
       "      <td>tagValue</td>\n",
       "    </tr>\n",
       "    <tr>\n",
       "      <th>1</th>\n",
       "      <td>2</td>\n",
       "      <td>52</td>\n",
       "      <td>13</td>\n",
       "      <td>1</td>\n",
       "      <td>4</td>\n",
       "      <td>2009</td>\n",
       "      <td>chillout</td>\n",
       "    </tr>\n",
       "    <tr>\n",
       "      <th>2</th>\n",
       "      <td>2</td>\n",
       "      <td>52</td>\n",
       "      <td>15</td>\n",
       "      <td>1</td>\n",
       "      <td>4</td>\n",
       "      <td>2009</td>\n",
       "      <td>downtempo</td>\n",
       "    </tr>\n",
       "    <tr>\n",
       "      <th>3</th>\n",
       "      <td>2</td>\n",
       "      <td>52</td>\n",
       "      <td>18</td>\n",
       "      <td>1</td>\n",
       "      <td>4</td>\n",
       "      <td>2009</td>\n",
       "      <td>electronic</td>\n",
       "    </tr>\n",
       "    <tr>\n",
       "      <th>4</th>\n",
       "      <td>2</td>\n",
       "      <td>52</td>\n",
       "      <td>21</td>\n",
       "      <td>1</td>\n",
       "      <td>4</td>\n",
       "      <td>2009</td>\n",
       "      <td>trip-hop</td>\n",
       "    </tr>\n",
       "  </tbody>\n",
       "</table>\n",
       "</div>"
      ],
      "text/plain": [
       "   userID  artistID  tagID  day  month  year    tagValue\n",
       "0  userID  artistID  tagID  day  month  year    tagValue\n",
       "1       2        52     13    1      4  2009    chillout\n",
       "2       2        52     15    1      4  2009   downtempo\n",
       "3       2        52     18    1      4  2009  electronic\n",
       "4       2        52     21    1      4  2009    trip-hop"
      ]
     },
     "execution_count": 41,
     "metadata": {},
     "output_type": "execute_result"
    }
   ],
   "source": [
    "user_tagged_df = user_taggedartists_df.merge(tags_df[['tagID', 'tagValue']], on='tagID', how='left')\n",
    "user_tagged_df.head()"
   ]
  },
  {
   "cell_type": "markdown",
   "metadata": {},
   "source": [
    "### user_artist_df with user_friends_df is merged to create a unified representation of user-music interactions along with their corresponding friend relations. The first five row of the new dataframe user_music_friends_df is represnted as follow:"
   ]
  },
  {
   "cell_type": "code",
   "execution_count": 42,
   "metadata": {},
   "outputs": [
    {
     "data": {
      "text/html": [
       "<div>\n",
       "<style scoped>\n",
       "    .dataframe tbody tr th:only-of-type {\n",
       "        vertical-align: middle;\n",
       "    }\n",
       "\n",
       "    .dataframe tbody tr th {\n",
       "        vertical-align: top;\n",
       "    }\n",
       "\n",
       "    .dataframe thead th {\n",
       "        text-align: right;\n",
       "    }\n",
       "</style>\n",
       "<table border=\"1\" class=\"dataframe\">\n",
       "  <thead>\n",
       "    <tr style=\"text-align: right;\">\n",
       "      <th></th>\n",
       "      <th>userID</th>\n",
       "      <th>artistID</th>\n",
       "      <th>weight</th>\n",
       "      <th>friendID</th>\n",
       "    </tr>\n",
       "  </thead>\n",
       "  <tbody>\n",
       "    <tr>\n",
       "      <th>0</th>\n",
       "      <td>userID</td>\n",
       "      <td>artistID</td>\n",
       "      <td>weight</td>\n",
       "      <td>friendID</td>\n",
       "    </tr>\n",
       "    <tr>\n",
       "      <th>1</th>\n",
       "      <td>2</td>\n",
       "      <td>51</td>\n",
       "      <td>13883</td>\n",
       "      <td>275</td>\n",
       "    </tr>\n",
       "    <tr>\n",
       "      <th>2</th>\n",
       "      <td>2</td>\n",
       "      <td>51</td>\n",
       "      <td>13883</td>\n",
       "      <td>428</td>\n",
       "    </tr>\n",
       "    <tr>\n",
       "      <th>3</th>\n",
       "      <td>2</td>\n",
       "      <td>51</td>\n",
       "      <td>13883</td>\n",
       "      <td>515</td>\n",
       "    </tr>\n",
       "    <tr>\n",
       "      <th>4</th>\n",
       "      <td>2</td>\n",
       "      <td>51</td>\n",
       "      <td>13883</td>\n",
       "      <td>761</td>\n",
       "    </tr>\n",
       "  </tbody>\n",
       "</table>\n",
       "</div>"
      ],
      "text/plain": [
       "   userID  artistID  weight  friendID\n",
       "0  userID  artistID  weight  friendID\n",
       "1       2        51   13883       275\n",
       "2       2        51   13883       428\n",
       "3       2        51   13883       515\n",
       "4       2        51   13883       761"
      ]
     },
     "execution_count": 42,
     "metadata": {},
     "output_type": "execute_result"
    }
   ],
   "source": [
    "user_music_friends_df = user_artists_df.merge(user_friends_df, how='left')\n",
    "user_music_friends_df.head()"
   ]
  },
  {
   "cell_type": "markdown",
   "metadata": {},
   "source": [
    "### user_taggedartists_df with user_friends_df is merged to get the common values. The first five row of the new dataframe user_tagged_friends_df is represnted as follow:"
   ]
  },
  {
   "cell_type": "code",
   "execution_count": 43,
   "metadata": {},
   "outputs": [
    {
     "data": {
      "text/html": [
       "<div>\n",
       "<style scoped>\n",
       "    .dataframe tbody tr th:only-of-type {\n",
       "        vertical-align: middle;\n",
       "    }\n",
       "\n",
       "    .dataframe tbody tr th {\n",
       "        vertical-align: top;\n",
       "    }\n",
       "\n",
       "    .dataframe thead th {\n",
       "        text-align: right;\n",
       "    }\n",
       "</style>\n",
       "<table border=\"1\" class=\"dataframe\">\n",
       "  <thead>\n",
       "    <tr style=\"text-align: right;\">\n",
       "      <th></th>\n",
       "      <th>userID</th>\n",
       "      <th>artistID</th>\n",
       "      <th>tagID</th>\n",
       "      <th>friendID</th>\n",
       "    </tr>\n",
       "  </thead>\n",
       "  <tbody>\n",
       "    <tr>\n",
       "      <th>0</th>\n",
       "      <td>userID</td>\n",
       "      <td>artistID</td>\n",
       "      <td>tagID</td>\n",
       "      <td>friendID</td>\n",
       "    </tr>\n",
       "    <tr>\n",
       "      <th>1</th>\n",
       "      <td>2</td>\n",
       "      <td>52</td>\n",
       "      <td>13</td>\n",
       "      <td>275</td>\n",
       "    </tr>\n",
       "    <tr>\n",
       "      <th>2</th>\n",
       "      <td>2</td>\n",
       "      <td>52</td>\n",
       "      <td>13</td>\n",
       "      <td>428</td>\n",
       "    </tr>\n",
       "    <tr>\n",
       "      <th>3</th>\n",
       "      <td>2</td>\n",
       "      <td>52</td>\n",
       "      <td>13</td>\n",
       "      <td>515</td>\n",
       "    </tr>\n",
       "    <tr>\n",
       "      <th>4</th>\n",
       "      <td>2</td>\n",
       "      <td>52</td>\n",
       "      <td>13</td>\n",
       "      <td>761</td>\n",
       "    </tr>\n",
       "  </tbody>\n",
       "</table>\n",
       "</div>"
      ],
      "text/plain": [
       "   userID  artistID  tagID  friendID\n",
       "0  userID  artistID  tagID  friendID\n",
       "1       2        52     13       275\n",
       "2       2        52     13       428\n",
       "3       2        52     13       515\n",
       "4       2        52     13       761"
      ]
     },
     "execution_count": 43,
     "metadata": {},
     "output_type": "execute_result"
    }
   ],
   "source": [
    "user_tagged_friends_df = user_taggedartists_df.merge(user_friends_df, on='userID', how='left')[['userID', 'artistID', 'tagID', 'friendID']]\n",
    "user_tagged_friends_df.head()"
   ]
  },
  {
   "cell_type": "markdown",
   "metadata": {},
   "source": [
    "## 4.2) Calculate User Listening History Statistics"
   ]
  },
  {
   "cell_type": "markdown",
   "metadata": {},
   "source": [
    "### Compute the relevant statistics from the user_artists_df DataFrame. \n",
    "### Please note! The statistics is applicable on numeric values; therefore, we must do the required adjustment before the calculation."
   ]
  },
  {
   "cell_type": "code",
   "execution_count": 44,
   "metadata": {},
   "outputs": [
    {
     "data": {
      "text/html": [
       "<div>\n",
       "<style scoped>\n",
       "    .dataframe tbody tr th:only-of-type {\n",
       "        vertical-align: middle;\n",
       "    }\n",
       "\n",
       "    .dataframe tbody tr th {\n",
       "        vertical-align: top;\n",
       "    }\n",
       "\n",
       "    .dataframe thead th {\n",
       "        text-align: right;\n",
       "    }\n",
       "</style>\n",
       "<table border=\"1\" class=\"dataframe\">\n",
       "  <thead>\n",
       "    <tr style=\"text-align: right;\">\n",
       "      <th></th>\n",
       "      <th>userID</th>\n",
       "      <th>total_artists_listened</th>\n",
       "      <th>average_listening_count</th>\n",
       "      <th>max_listening_count</th>\n",
       "    </tr>\n",
       "  </thead>\n",
       "  <tbody>\n",
       "    <tr>\n",
       "      <th>0</th>\n",
       "      <td>10</td>\n",
       "      <td>50</td>\n",
       "      <td>570.460000</td>\n",
       "      <td>3132.0</td>\n",
       "    </tr>\n",
       "    <tr>\n",
       "      <th>1</th>\n",
       "      <td>100</td>\n",
       "      <td>50</td>\n",
       "      <td>207.160000</td>\n",
       "      <td>1449.0</td>\n",
       "    </tr>\n",
       "    <tr>\n",
       "      <th>2</th>\n",
       "      <td>1001</td>\n",
       "      <td>50</td>\n",
       "      <td>1046.400000</td>\n",
       "      <td>21086.0</td>\n",
       "    </tr>\n",
       "    <tr>\n",
       "      <th>3</th>\n",
       "      <td>1002</td>\n",
       "      <td>50</td>\n",
       "      <td>114.800000</td>\n",
       "      <td>808.0</td>\n",
       "    </tr>\n",
       "    <tr>\n",
       "      <th>4</th>\n",
       "      <td>1003</td>\n",
       "      <td>50</td>\n",
       "      <td>392.940000</td>\n",
       "      <td>3305.0</td>\n",
       "    </tr>\n",
       "    <tr>\n",
       "      <th>5</th>\n",
       "      <td>1004</td>\n",
       "      <td>41</td>\n",
       "      <td>6.073171</td>\n",
       "      <td>41.0</td>\n",
       "    </tr>\n",
       "    <tr>\n",
       "      <th>6</th>\n",
       "      <td>1005</td>\n",
       "      <td>50</td>\n",
       "      <td>764.220000</td>\n",
       "      <td>3982.0</td>\n",
       "    </tr>\n",
       "    <tr>\n",
       "      <th>7</th>\n",
       "      <td>1006</td>\n",
       "      <td>50</td>\n",
       "      <td>475.180000</td>\n",
       "      <td>2703.0</td>\n",
       "    </tr>\n",
       "    <tr>\n",
       "      <th>8</th>\n",
       "      <td>1007</td>\n",
       "      <td>50</td>\n",
       "      <td>83.620000</td>\n",
       "      <td>231.0</td>\n",
       "    </tr>\n",
       "    <tr>\n",
       "      <th>9</th>\n",
       "      <td>1008</td>\n",
       "      <td>50</td>\n",
       "      <td>206.120000</td>\n",
       "      <td>1418.0</td>\n",
       "    </tr>\n",
       "  </tbody>\n",
       "</table>\n",
       "</div>"
      ],
      "text/plain": [
       "  userID  total_artists_listened  average_listening_count  max_listening_count\n",
       "0     10                      50               570.460000               3132.0\n",
       "1    100                      50               207.160000               1449.0\n",
       "2   1001                      50              1046.400000              21086.0\n",
       "3   1002                      50               114.800000                808.0\n",
       "4   1003                      50               392.940000               3305.0\n",
       "5   1004                      41                 6.073171                 41.0\n",
       "6   1005                      50               764.220000               3982.0\n",
       "7   1006                      50               475.180000               2703.0\n",
       "8   1007                      50                83.620000                231.0\n",
       "9   1008                      50               206.120000               1418.0"
      ]
     },
     "execution_count": 44,
     "metadata": {},
     "output_type": "execute_result"
    }
   ],
   "source": [
    "# Convert the 'weight' column to numeric, replacing non-numeric or missing values with NaN\n",
    "user_artists_df['weight'] = pd.to_numeric(user_artists_df['weight'], errors='coerce')\n",
    "\n",
    "\n",
    "# Group the data by 'userID' and aggregate the listening count statistics\n",
    "user_listening_stats_df = user_artists_df.groupby('userID')['weight'].agg(['count', 'mean', 'max']).reset_index()\n",
    "\n",
    "\n",
    "# Rename the columns for better interpretation\n",
    "user_listening_stats_df.rename(columns={'count': 'total_artists_listened', 'mean': 'average_listening_count', 'max': 'max_listening_count'}, inplace=True)\n",
    "\n",
    "# Display the resulting DataFrame\n",
    "user_listening_stats_df.head(10)\n"
   ]
  },
  {
   "cell_type": "markdown",
   "metadata": {},
   "source": [
    "### Insights\n",
    "These statistics can provide valuable insights into user engagement and preferences. For instance, we can identify:\n",
    "* users with a high average listening count\n",
    "* users who have a diverse taste in music based on the total number of artists listened to\n",
    "* users who are avid listeners of specific artists based on the maximum listening count"
   ]
  },
  {
   "cell_type": "code",
   "execution_count": 84,
   "metadata": {},
   "outputs": [
    {
     "data": {
      "image/png": "[encoded data removed]",
      "text/plain": [
       "<Figure size 800x600 with 1 Axes>"
      ]
     },
     "metadata": {},
     "output_type": "display_data"
    }
   ],
   "source": [
    "\n",
    "# Histogram for the distribution of average listening count per user\n",
    "plt.figure(figsize=(8, 6))\n",
    "sns.histplot(user_listening_stats_df['average_listening_count'], bins=20, kde=True)\n",
    "plt.xlabel('Average Listening Count')\n",
    "plt.ylabel('Frequency')\n",
    "plt.title('Distribution of Average Listening Count per User')\n",
    "plt.show()"
   ]
  },
  {
   "cell_type": "markdown",
   "metadata": {},
   "source": [
    "### Insights: \n",
    "* From the above information we can identify users with a high average listening count\n",
    "* Users who have a diverse taste in music based on the total number of artists listened to\n",
    "* Users who are avid listeners of specific artists based on the maximum listening count. \n"
   ]
  },
  {
   "cell_type": "markdown",
   "metadata": {},
   "source": [
    "## 4.3) Calculate Artist Popularity"
   ]
  },
  {
   "cell_type": "markdown",
   "metadata": {},
   "source": [
    "### Compute the popularity of each artist by aggregating the total listening counts for each artist and display the first five raws of the datafram. This can help identify popular artists and how they are associated with different tags."
   ]
  },
  {
   "cell_type": "code",
   "execution_count": 46,
   "metadata": {},
   "outputs": [
    {
     "data": {
      "text/html": [
       "<div>\n",
       "<style scoped>\n",
       "    .dataframe tbody tr th:only-of-type {\n",
       "        vertical-align: middle;\n",
       "    }\n",
       "\n",
       "    .dataframe tbody tr th {\n",
       "        vertical-align: top;\n",
       "    }\n",
       "\n",
       "    .dataframe thead th {\n",
       "        text-align: right;\n",
       "    }\n",
       "</style>\n",
       "<table border=\"1\" class=\"dataframe\">\n",
       "  <thead>\n",
       "    <tr style=\"text-align: right;\">\n",
       "      <th></th>\n",
       "      <th>userID</th>\n",
       "      <th>artistID</th>\n",
       "      <th>popularity</th>\n",
       "      <th>name</th>\n",
       "    </tr>\n",
       "  </thead>\n",
       "  <tbody>\n",
       "    <tr>\n",
       "      <th>0</th>\n",
       "      <td>userID</td>\n",
       "      <td>artistID</td>\n",
       "      <td>weight</td>\n",
       "      <td>NaN</td>\n",
       "    </tr>\n",
       "    <tr>\n",
       "      <th>4917</th>\n",
       "      <td>104</td>\n",
       "      <td>192</td>\n",
       "      <td>9999</td>\n",
       "      <td>Elton John</td>\n",
       "    </tr>\n",
       "    <tr>\n",
       "      <th>38863</th>\n",
       "      <td>850</td>\n",
       "      <td>4317</td>\n",
       "      <td>999</td>\n",
       "      <td>Melotron</td>\n",
       "    </tr>\n",
       "    <tr>\n",
       "      <th>92676</th>\n",
       "      <td>2096</td>\n",
       "      <td>4311</td>\n",
       "      <td>999</td>\n",
       "      <td>Ian Brown</td>\n",
       "    </tr>\n",
       "    <tr>\n",
       "      <th>90203</th>\n",
       "      <td>2039</td>\n",
       "      <td>697</td>\n",
       "      <td>999</td>\n",
       "      <td>Sia</td>\n",
       "    </tr>\n",
       "    <tr>\n",
       "      <th>36773</th>\n",
       "      <td>806</td>\n",
       "      <td>7</td>\n",
       "      <td>999</td>\n",
       "      <td>Marilyn Manson</td>\n",
       "    </tr>\n",
       "    <tr>\n",
       "      <th>51807</th>\n",
       "      <td>1153</td>\n",
       "      <td>235</td>\n",
       "      <td>999</td>\n",
       "      <td>Eels</td>\n",
       "    </tr>\n",
       "    <tr>\n",
       "      <th>49178</th>\n",
       "      <td>1091</td>\n",
       "      <td>6134</td>\n",
       "      <td>999</td>\n",
       "      <td>Fair to Midland</td>\n",
       "    </tr>\n",
       "    <tr>\n",
       "      <th>64631</th>\n",
       "      <td>1455</td>\n",
       "      <td>1684</td>\n",
       "      <td>999</td>\n",
       "      <td>Aly &amp; AJ</td>\n",
       "    </tr>\n",
       "    <tr>\n",
       "      <th>16884</th>\n",
       "      <td>363</td>\n",
       "      <td>5216</td>\n",
       "      <td>999</td>\n",
       "      <td>Alien Ant Farm</td>\n",
       "    </tr>\n",
       "  </tbody>\n",
       "</table>\n",
       "</div>"
      ],
      "text/plain": [
       "       userID  artistID popularity             name\n",
       "0      userID  artistID     weight              NaN\n",
       "4917      104       192       9999       Elton John\n",
       "38863     850      4317        999         Melotron\n",
       "92676    2096      4311        999        Ian Brown\n",
       "90203    2039       697        999              Sia\n",
       "36773     806         7        999   Marilyn Manson\n",
       "51807    1153       235        999             Eels\n",
       "49178    1091      6134        999  Fair to Midland\n",
       "64631    1455      1684        999         Aly & AJ\n",
       "16884     363      5216        999   Alien Ant Farm"
      ]
     },
     "execution_count": 46,
     "metadata": {},
     "output_type": "execute_result"
    }
   ],
   "source": [
    "# Sort the DataFrame in descending order based on popularity\n",
    "artist_popularity_df = user_music_df.sort_values(by='weight', ascending=False)\n",
    "\n",
    "# Rename the columns for better interpretation\n",
    "artist_popularity_df.rename(columns={'weight': 'popularity'}, inplace=True)\n",
    "artist_popularity_df.head(10)\n",
    "#artist_popularity_df.tail()"
   ]
  },
  {
   "cell_type": "markdown",
   "metadata": {},
   "source": [
    "### Insight\n",
    "* The DataFrame shows the most popular artists were Depeche Mode, Thalia, and U2 respectively.\n",
    "* Some of the least favourite artists were also Luka Buda, Stereolab, Islands, and Drew Seeley, with the weight of 1.0.\n",
    "* We can also find the link between the artistID and their names for furthur exploration."
   ]
  },
  {
   "cell_type": "markdown",
   "metadata": {},
   "source": [
    "## 4.4) Calculate Genre Popularity"
   ]
  },
  {
   "cell_type": "markdown",
   "metadata": {},
   "source": [
    "### Calculate genre popularity based on the tagValue from tagged_df and display the first ten rows of data."
   ]
  },
  {
   "cell_type": "code",
   "execution_count": 47,
   "metadata": {},
   "outputs": [
    {
     "data": {
      "text/html": [
       "<div>\n",
       "<style scoped>\n",
       "    .dataframe tbody tr th:only-of-type {\n",
       "        vertical-align: middle;\n",
       "    }\n",
       "\n",
       "    .dataframe tbody tr th {\n",
       "        vertical-align: top;\n",
       "    }\n",
       "\n",
       "    .dataframe thead th {\n",
       "        text-align: right;\n",
       "    }\n",
       "</style>\n",
       "<table border=\"1\" class=\"dataframe\">\n",
       "  <thead>\n",
       "    <tr style=\"text-align: right;\">\n",
       "      <th></th>\n",
       "      <th>tagValue</th>\n",
       "      <th>popularity</th>\n",
       "    </tr>\n",
       "  </thead>\n",
       "  <tbody>\n",
       "    <tr>\n",
       "      <th>5731</th>\n",
       "      <td>rock</td>\n",
       "      <td>5325</td>\n",
       "    </tr>\n",
       "    <tr>\n",
       "      <th>5219</th>\n",
       "      <td>pop</td>\n",
       "      <td>3878</td>\n",
       "    </tr>\n",
       "    <tr>\n",
       "      <th>352</th>\n",
       "      <td>alternative</td>\n",
       "      <td>3737</td>\n",
       "    </tr>\n",
       "  </tbody>\n",
       "</table>\n",
       "</div>"
      ],
      "text/plain": [
       "         tagValue  popularity\n",
       "5731         rock        5325\n",
       "5219          pop        3878\n",
       "352   alternative        3737"
      ]
     },
     "execution_count": 47,
     "metadata": {},
     "output_type": "execute_result"
    }
   ],
   "source": [
    "# Group the data by 'tagValue' and count the number of occurrences to get genre popularity\n",
    "genre_popularity_df = user_tagged_df.groupby('tagValue').size().reset_index(name='popularity')\n",
    "\n",
    "# Sort the DataFrame in descending order based on popularity\n",
    "genre_popularity_df = genre_popularity_df.sort_values(by='popularity', ascending=False)\n",
    "\n",
    "# Display the resulting DataFrame\n",
    "genre_popularity_df.head(3)"
   ]
  },
  {
   "cell_type": "markdown",
   "metadata": {},
   "source": [
    "### Insights\n",
    "* The top 3 most popular tags are: rock, pop, and alternative respectively."
   ]
  },
  {
   "cell_type": "markdown",
   "metadata": {},
   "source": [
    "## 4.5) Calculate Year Popularity\n",
    "### Compute the popularity of each year based on the total tag assignments"
   ]
  },
  {
   "cell_type": "code",
   "execution_count": 48,
   "metadata": {},
   "outputs": [
    {
     "data": {
      "text/html": [
       "<div>\n",
       "<style scoped>\n",
       "    .dataframe tbody tr th:only-of-type {\n",
       "        vertical-align: middle;\n",
       "    }\n",
       "\n",
       "    .dataframe tbody tr th {\n",
       "        vertical-align: top;\n",
       "    }\n",
       "\n",
       "    .dataframe thead th {\n",
       "        text-align: right;\n",
       "    }\n",
       "</style>\n",
       "<table border=\"1\" class=\"dataframe\">\n",
       "  <thead>\n",
       "    <tr style=\"text-align: right;\">\n",
       "      <th></th>\n",
       "      <th>year</th>\n",
       "      <th>popularity</th>\n",
       "    </tr>\n",
       "  </thead>\n",
       "  <tbody>\n",
       "    <tr>\n",
       "      <th>16</th>\n",
       "      <td>2010</td>\n",
       "      <td>37474</td>\n",
       "    </tr>\n",
       "    <tr>\n",
       "      <th>15</th>\n",
       "      <td>2009</td>\n",
       "      <td>30949</td>\n",
       "    </tr>\n",
       "    <tr>\n",
       "      <th>14</th>\n",
       "      <td>2008</td>\n",
       "      <td>29094</td>\n",
       "    </tr>\n",
       "  </tbody>\n",
       "</table>\n",
       "</div>"
      ],
      "text/plain": [
       "    year  popularity\n",
       "16  2010       37474\n",
       "15  2009       30949\n",
       "14  2008       29094"
      ]
     },
     "execution_count": 48,
     "metadata": {},
     "output_type": "execute_result"
    }
   ],
   "source": [
    "# Group the data by 'year' and count the number of occurrences to get year popularity\n",
    "year_popularity_df = user_tagged_df.groupby('year').size().reset_index(name='popularity')\n",
    "\n",
    "# Sort the DataFrame in descending order based on popularity\n",
    "year_popularity_df = year_popularity_df.sort_values(by='popularity', ascending=False)\n",
    "\n",
    "year_popularity_df.head(3)"
   ]
  },
  {
   "cell_type": "markdown",
   "metadata": {},
   "source": [
    "### Insight\n",
    "* We can observe most tags assigned in 2010, 2009, and 2008. \n",
    "* We can use this information to understand the distribution of tag assignments over different years and explore any potential trends or patterns in user tagging behavior"
   ]
  },
  {
   "cell_type": "markdown",
   "metadata": {},
   "source": [
    "## 4.6) Calculate User-Tag Interaction Statistics\n",
    "### Compute the total number of tags assigned by each user and the average number of tags per user"
   ]
  },
  {
   "cell_type": "code",
   "execution_count": 49,
   "metadata": {},
   "outputs": [
    {
     "name": "stdout",
     "output_type": "stream",
     "text": [
      "    userID  total_tags_assigned\n",
      "154   1672                 2609\n",
      "912   1380                 2075\n",
      "788   1249                 2024\n",
      "385   1929                 1876\n",
      "300   1832                 1863\n",
      "Average tags per user: 98.4582893347413\n"
     ]
    }
   ],
   "source": [
    "# Group the data by 'userID' and aggregate the tag statistics\n",
    "user_tag_stats_df = user_taggedartists_df.groupby('userID')['tagID'].agg(['count']).reset_index()\n",
    "\n",
    "# Rename the columns for better interpretation\n",
    "user_tag_stats_df.rename(columns={'count': 'total_tags_assigned'}, inplace=True)\n",
    "\n",
    "# Sort the DataFrame in descending order based on 'total_tags_assigned'\n",
    "user_tag_stats_df_sorted = user_tag_stats_df.sort_values(by='total_tags_assigned', ascending=False)\n",
    "\n",
    "# Calculate the average number of tags per user\n",
    "total_users = user_tag_stats_df.shape[0]\n",
    "total_tags_assigned = user_tag_stats_df['total_tags_assigned'].sum()\n",
    "average_tags_per_user = total_tags_assigned / total_users\n",
    "\n",
    "# Display the resulting DataFrame\n",
    "print(user_tag_stats_df_sorted.head())\n",
    "print(\"Average tags per user:\", average_tags_per_user)\n"
   ]
  },
  {
   "cell_type": "markdown",
   "metadata": {},
   "source": [
    "### Insights\n",
    "* The most active users or the users with the highest total number of tags assigned are listed in the descending order.\n",
    "* The average tags per user is 98.4582893347413"
   ]
  },
  {
   "cell_type": "markdown",
   "metadata": {},
   "source": [
    "## 4.7) Calculate Artist-Tag Interaction Statistics\n",
    "### Compute the total number of tags assigned to each artist and the average number of tags per artist"
   ]
  },
  {
   "cell_type": "code",
   "execution_count": 50,
   "metadata": {},
   "outputs": [
    {
     "name": "stdout",
     "output_type": "stream",
     "text": [
      "      artistID  total_tags_assigned_to_artist\n",
      "13160      289                            701\n",
      "13188      292                            590\n",
      "16233       67                            568\n",
      "16637       72                            567\n",
      "17843       89                            545\n",
      "Average tags per artist: 10.031739200602507\n"
     ]
    }
   ],
   "source": [
    "# Group the data by 'artistID' and aggregate the tag statistics\n",
    "artist_tag_stats_df = user_taggedartists_df.groupby('artistID')['tagID'].agg(['count']).reset_index()\n",
    "\n",
    "# Rename the columns for better interpretation\n",
    "artist_tag_stats_df.rename(columns={'count': 'total_tags_assigned_to_artist'}, inplace=True)\n",
    "\n",
    "# Sort the DataFrame in descending order based on 'total_tags_assigned_to_artist'\n",
    "artist_tag_stats_df_sorted = artist_tag_stats_df.sort_values(by='total_tags_assigned_to_artist', ascending=False)\n",
    "\n",
    "# Calculate the average number of tags per artist\n",
    "total_artists = artist_tag_stats_df.shape[0]\n",
    "total_tags_assigned_to_artists = artist_tag_stats_df['total_tags_assigned_to_artist'].sum()\n",
    "average_tags_per_artist = total_tags_assigned_to_artists / total_artists\n",
    "\n",
    "# Display the sorted DataFrame\n",
    "print(artist_tag_stats_df_sorted.head())\n",
    "print(\"Average tags per artist:\", average_tags_per_artist)"
   ]
  },
  {
   "cell_type": "code",
   "execution_count": 51,
   "metadata": {},
   "outputs": [
    {
     "name": "stdout",
     "output_type": "stream",
     "text": [
      "      artistID  total_tags_assigned_to_artist userID popularity  \\\n",
      "35030      289                            701   1988       1470   \n",
      "34866      289                            701    380      32135   \n",
      "34857      289                            701   1246        331   \n",
      "34858      289                            701   1294         33   \n",
      "34859      289                            701   1973       3280   \n",
      "\n",
      "                 name  \n",
      "35030  Britney Spears  \n",
      "34866  Britney Spears  \n",
      "34857  Britney Spears  \n",
      "34858  Britney Spears  \n",
      "34859  Britney Spears  \n"
     ]
    }
   ],
   "source": [
    "\n",
    "# Merge artist_tag_stats_df with artist_popularity_df based on 'artistID'\n",
    "artist_stats_popularity_df = artist_tag_stats_df.merge(artist_popularity_df, on='artistID')\n",
    "\n",
    "# Sort the DataFrame based on the 'count' column in descending order\n",
    "artist_stats_popularity_tag_sorted_df = artist_stats_popularity_df.sort_values(by='total_tags_assigned_to_artist', ascending=False)\n",
    "\n",
    "# Display the resulting sorted DataFrame\n",
    "print(artist_stats_popularity_tag_sorted_df.head())"
   ]
  },
  {
   "cell_type": "markdown",
   "metadata": {},
   "source": [
    "### Insights\n",
    "* The most tagged artist was Britney Spears"
   ]
  },
  {
   "cell_type": "markdown",
   "metadata": {},
   "source": [
    "### 4.7.1) Compare count\" from artist_tag_stats_df and the \"popularity\" from artist_popularity_df "
   ]
  },
  {
   "cell_type": "code",
   "execution_count": 52,
   "metadata": {},
   "outputs": [
    {
     "name": "stdout",
     "output_type": "stream",
     "text": [
      "       artistID  total_tags_assigned_to_artist  userID popularity  \\\n",
      "84312  artistID                              1  userID     weight   \n",
      "21826       192                            113     104       9999   \n",
      "80379       912                              7    1647        999   \n",
      "69880       697                             78    2039        999   \n",
      "49081       407                             34    2055        999   \n",
      "\n",
      "                 name  \n",
      "84312             NaN  \n",
      "21826      Elton John  \n",
      "80379  Carter Burwell  \n",
      "69880             Sia  \n",
      "49081   Akira Yamaoka  \n"
     ]
    }
   ],
   "source": [
    "# Sort the DataFrame based on the 'count' column in descending order\n",
    "artist_stats_popularity_weight_sorted_df = artist_stats_popularity_df.sort_values(by='popularity', ascending=False)\n",
    "\n",
    "# Display the resulting sorted DataFrame\n",
    "print(artist_stats_popularity_weight_sorted_df.head())"
   ]
  },
  {
   "cell_type": "markdown",
   "metadata": {},
   "source": [
    "Insights:\n",
    "* We can observe the most tagged artist, Britney Spears, is not even listed among the top 10 most popular artists based on higher total listening counts. Poor Brietney!  "
   ]
  },
  {
   "cell_type": "markdown",
   "metadata": {},
   "source": [
    "## 4.8) Create Time-Based Features:\n",
    "\n",
    "### Analyze how musical preferences vary over time using using timestamp information"
   ]
  },
  {
   "cell_type": "code",
   "execution_count": 53,
   "metadata": {},
   "outputs": [],
   "source": [
    "# Convert timestamp values to datetime format with milliseconds\n",
    "user_taggedartists_timestamps_df['timestamp'] = pd.to_datetime(user_taggedartists_timestamps_df['timestamp'], unit='ms', errors='coerce')\n",
    "\n",
    "# Drop rows with missing or invalid timestamps\n",
    "user_taggedartists_timestamps_df.dropna(subset=['timestamp'], inplace=True)\n",
    "\n",
    "# Extract time-based features\n",
    "user_taggedartists_timestamps_df['year'] = user_taggedartists_timestamps_df['timestamp'].dt.year\n",
    "user_taggedartists_timestamps_df['month'] = user_taggedartists_timestamps_df['timestamp'].dt.month\n",
    "user_taggedartists_timestamps_df['day'] = user_taggedartists_timestamps_df['timestamp'].dt.day\n",
    "user_taggedartists_timestamps_df['hour'] = user_taggedartists_timestamps_df['timestamp'].dt.hour"
   ]
  },
  {
   "cell_type": "code",
   "execution_count": 54,
   "metadata": {},
   "outputs": [
    {
     "data": {
      "image/png": "[encoded data removed]",
      "text/plain": [
       "<Figure size 1000x600 with 1 Axes>"
      ]
     },
     "metadata": {},
     "output_type": "display_data"
    }
   ],
   "source": [
    "# Group the data by 'month' and calculate the count of tag assignments in each month\n",
    "tag_assignments_by_month_df = user_taggedartists_timestamps_df.groupby('month')['tagID'].count().reset_index()\n",
    "\n",
    "# Plot the count of tag assignments per month\n",
    "plt.figure(figsize=(10, 6))\n",
    "sns.barplot(x='month', y='tagID', data=tag_assignments_by_month_df)\n",
    "plt.xlabel('Month')\n",
    "plt.ylabel('Tag Assignments Count')\n",
    "plt.title('Tag Assignments Count per Month')\n",
    "plt.show()"
   ]
  },
  {
   "cell_type": "markdown",
   "metadata": {},
   "source": [
    "### Insights\n",
    "* The highest number of tags were assigned in February. \n",
    "* The least number of tags were assigned in Auguest. "
   ]
  },
  {
   "cell_type": "markdown",
   "metadata": {},
   "source": [
    "## 4.9) Calculate User-Friend Interaction Statistics\n",
    "### 4.9.1) Calculate the number of friends each user has and the total number of music listening events for each use"
   ]
  },
  {
   "cell_type": "code",
   "execution_count": 55,
   "metadata": {},
   "outputs": [],
   "source": [
    "# Calculate the number of friends each user has\n",
    "user_friend_counts = user_friends_df['userID'].value_counts().reset_index()\n",
    "user_friend_counts.columns = ['userID', 'num_friends']\n",
    "\n",
    "# Calculate the total number of music listening events for each user\n",
    "user_music_counts = user_artists_df.groupby('userID')['weight'].sum().reset_index()\n",
    "user_music_counts.columns = ['userID', 'total_music_listened']"
   ]
  },
  {
   "cell_type": "markdown",
   "metadata": {},
   "source": [
    "### 4.9.2) Find Users with the Highest Number of Friends and Their Music Listening Stats and then find users with the highest number of friends and their corresponding music listening statistics"
   ]
  },
  {
   "cell_type": "code",
   "execution_count": 56,
   "metadata": {},
   "outputs": [
    {
     "name": "stdout",
     "output_type": "stream",
     "text": [
      "      userID  num_friends\n",
      "0       1543          119\n",
      "1       1281          110\n",
      "2        831          106\n",
      "3        179           97\n",
      "4       1503           95\n",
      "...      ...          ...\n",
      "1888     908            1\n",
      "1889     893            1\n",
      "1890     891            1\n",
      "1891     869            1\n",
      "1892  userID            1\n",
      "\n",
      "[1893 rows x 2 columns]\n"
     ]
    }
   ],
   "source": [
    "# Group the data by 'userID' and calculate the number of friends for each user\n",
    "user_friend_counts = user_friends_df['userID'].value_counts().reset_index()\n",
    "user_friend_counts.columns = ['userID', 'num_friends']\n",
    "\n",
    "# Display the resulting DataFrame\n",
    "print(user_friend_counts)"
   ]
  },
  {
   "cell_type": "code",
   "execution_count": 57,
   "metadata": {},
   "outputs": [
    {
     "name": "stdout",
     "output_type": "stream",
     "text": [
      "  userID  num_friends  total_music_listened\n",
      "0   1543          119                2458.0\n",
      "1   1281          110                 584.0\n",
      "2    831          106              112330.0\n",
      "3    179           97               25463.0\n",
      "4   1503           95               16200.0\n",
      "5   1023           91               41123.0\n",
      "6   1895           90               60435.0\n",
      "7    405           90               58585.0\n",
      "8   1300           89              124115.0\n",
      "9    390           88              122293.0\n",
      "      userID  num_friends  total_music_listened\n",
      "1883     408            1                6784.0\n",
      "1884    1997            1               44408.0\n",
      "1885      88            1                1053.0\n",
      "1886     178            1               25089.0\n",
      "1887     427            1               35075.0\n",
      "1888     176            1               35557.0\n",
      "1889      92            1                 859.0\n",
      "1890      97            1               32434.0\n",
      "1891    2057            1               20577.0\n",
      "1892  userID            1                   0.0\n"
     ]
    }
   ],
   "source": [
    "# Sort user_friend_counts DataFrame in descending order to get users with the highest number of friends\n",
    "users_with_highest_friends = user_friend_counts.sort_values(by='num_friends', ascending=False)\n",
    "\n",
    "# Merge users_with_highest_friends with user_music_counts to get their music listening stats\n",
    "users_with_highest_friends_music = users_with_highest_friends.merge(user_music_counts, on='userID')\n",
    "\n",
    "# Display the total music listened to by the 10 users with the highest number of friends \n",
    "print(users_with_highest_friends_music.head(10))\n",
    "\n",
    "# Display the total music listened to by the 10 users with no friends from the buttom of the list\n",
    "print(users_with_highest_friends_music.tail(10))\n",
    "\n"
   ]
  },
  {
   "cell_type": "markdown",
   "metadata": {},
   "source": [
    "### Insight\n",
    "* There are some users with no friends who listened to more music than some users with the highest number of friends."
   ]
  },
  {
   "cell_type": "markdown",
   "metadata": {},
   "source": [
    "## 4.10) Create Tag Co-Occurrence Matrix\n",
    "Create Tag Co-Occurrence Matrix. It provides insights into which tags are frequently used together by users, indicating potential associations between different artists, music genre, etc. "
   ]
  },
  {
   "cell_type": "code",
   "execution_count": 58,
   "metadata": {},
   "outputs": [
    {
     "name": "stdout",
     "output_type": "stream",
     "text": [
      "tag2       1      2       4       5       6       7    9    10    12      13  \\\n",
      "tag1                                                                           \n",
      "1     7109.0  799.0  1196.0  2606.0  1756.0  1510.0  0.0  22.0   0.0  1299.0   \n",
      "2      632.0  157.0    26.0    85.0   345.0   286.0  0.0   0.0   0.0    26.0   \n",
      "4     1185.0   10.0   475.0   932.0    14.0    34.0  0.0   0.0   0.0   278.0   \n",
      "5     2307.0   25.0   854.0  2236.0    17.0    51.0  0.0   5.0   0.0   953.0   \n",
      "6     1157.0  296.0    48.0    82.0   778.0   660.0  2.0   5.0  13.0    13.0   \n",
      "...      ...    ...     ...     ...     ...     ...  ...   ...   ...     ...   \n",
      "992      0.0    0.0     0.0     0.0     0.0     0.0  0.0   0.0   0.0     0.0   \n",
      "993      0.0    0.0     0.0     0.0     0.0     0.0  0.0   0.0   0.0     0.0   \n",
      "996      0.0    0.0     0.0     0.0     0.0     0.0  0.0   0.0   0.0     0.0   \n",
      "997      0.0    0.0     0.0     0.0     0.0     0.0  0.0   0.0   0.0     0.0   \n",
      "999      0.0    0.0     0.0     0.0     0.0     0.0  0.0   0.0   0.0     0.0   \n",
      "\n",
      "tag2  ...  989   99  990  991  992  993    996  997  998  999  \n",
      "tag1  ...                                                      \n",
      "1     ...  0.0  0.0  0.0  0.0  0.0  0.0    0.0  0.0  0.0  0.0  \n",
      "2     ...  0.0  0.0  0.0  0.0  0.0  0.0    0.0  0.0  0.0  0.0  \n",
      "4     ...  0.0  0.0  0.0  0.0  0.0  0.0    0.0  0.0  0.0  0.0  \n",
      "5     ...  0.0  0.0  0.0  0.0  0.0  0.0    0.0  0.0  0.0  0.0  \n",
      "6     ...  0.0  0.0  0.0  0.0  0.0  0.0    0.0  0.0  0.0  0.0  \n",
      "...   ...  ...  ...  ...  ...  ...  ...    ...  ...  ...  ...  \n",
      "992   ...  0.0  0.0  0.0  0.0  0.0  0.0    0.0  0.0  0.0  0.0  \n",
      "993   ...  0.0  0.0  0.0  0.0  0.0  0.0    0.0  0.0  0.0  0.0  \n",
      "996   ...  2.0  0.0  0.0  0.0  0.0  0.0  164.0  3.0  0.0  0.0  \n",
      "997   ...  0.0  0.0  0.0  0.0  0.0  0.0    0.0  3.0  0.0  0.0  \n",
      "999   ...  0.0  0.0  0.0  0.0  0.0  0.0    0.0  0.0  1.0  1.0  \n",
      "\n",
      "[10614 rows x 10972 columns]\n"
     ]
    }
   ],
   "source": [
    "# Group the data by 'userID' and aggregate the 'tagID's used by each user\n",
    "user_tags_agg_df = user_tagged_df.groupby('userID')['tagID'].agg(list).reset_index()\n",
    "\n",
    "# Create a dictionary to store the co-occurrence counts for each pair of tags\n",
    "tag_cooccurrence = {}\n",
    "\n",
    "# Iterate through each user's tags to update the co-occurrence counts\n",
    "for tags_list in user_tags_agg_df['tagID']:\n",
    "    for i, tag_id1 in enumerate(tags_list):\n",
    "        for tag_id2 in tags_list[i + 1:]:\n",
    "            tag_pair = (tag_id1, tag_id2)\n",
    "            tag_cooccurrence[tag_pair] = tag_cooccurrence.get(tag_pair, 0) + 1\n",
    "\n",
    "# Create the tag co-occurrence matrix as a DataFrame\n",
    "tag_cooccurrence_matrix_df = pd.DataFrame(tag_cooccurrence.items(), columns=['tag_pair', 'cooccurrence_count'])\n",
    "\n",
    "# Split the 'tag_pair' column into separate 'tag1' and 'tag2' columns\n",
    "tag_cooccurrence_matrix_df[['tag1', 'tag2']] = pd.DataFrame(tag_cooccurrence_matrix_df['tag_pair'].tolist(), index=tag_cooccurrence_matrix_df.index)\n",
    "\n",
    "# Drop the original 'tag_pair' column\n",
    "tag_cooccurrence_matrix_df.drop(columns=['tag_pair'], inplace=True)\n",
    "\n",
    "# Pivot the DataFrame to get the co-occurrence matrix with 'tag1' as rows and 'tag2' as columns\n",
    "tag_cooccurrence_matrix = tag_cooccurrence_matrix_df.pivot(index='tag1', columns='tag2', values='cooccurrence_count').fillna(0)\n",
    "\n",
    "# Display the resulting tag co-occurrence matrix\n",
    "print(tag_cooccurrence_matrix)\n"
   ]
  },
  {
   "cell_type": "markdown",
   "metadata": {},
   "source": [
    "## 4.10.1) Extract Tag Associations\n",
    "### Examine the non-diagonal cells of the matrix to identify pairs of tags that are often used together."
   ]
  },
  {
   "cell_type": "code",
   "execution_count": 59,
   "metadata": {},
   "outputs": [
    {
     "name": "stdout",
     "output_type": "stream",
     "text": [
      "       Tag1  Tag2  Co-occurrence Count\n",
      "0         1     1               7109.0\n",
      "1         1    79               6002.0\n",
      "2         1    33               5040.0\n",
      "3         1   130               4989.0\n",
      "4         1    81               4914.0\n",
      "...     ...   ...                  ...\n",
      "106135  999  4576                  2.0\n",
      "106136  999  4579                  2.0\n",
      "106137  999  4580                  2.0\n",
      "106138  999  1000                  1.0\n",
      "106139  999  1535                  1.0\n",
      "\n",
      "[106140 rows x 3 columns]\n"
     ]
    }
   ],
   "source": [
    "\n",
    "# Find the top n tag associations\n",
    "n = 10\n",
    "\n",
    "# Create an empty list to store the tag associations\n",
    "tag_associations = []\n",
    "\n",
    "# Iterate through each tag in the tag_cooccurrence_matrix\n",
    "for tag1 in tag_cooccurrence_matrix.index:\n",
    "    # Get the top n co-occurring tags with tag1\n",
    "    top_associations = tag_cooccurrence_matrix.loc[tag1].nlargest(n+1)[1:]\n",
    "\n",
    "    # Append tag1 and its associated tags to the list\n",
    "    for tag2, count in top_associations.items():\n",
    "        tag_associations.append((tag1, tag2, count))\n",
    "\n",
    "# Create a DataFrame to store the tag associations\n",
    "tag_associations_df = pd.DataFrame(tag_associations, columns=['Tag1', 'Tag2', 'Co-occurrence Count'])\n",
    "\n",
    "# Display the resulting DataFrame\n",
    "print(tag_associations_df)\n",
    "\n"
   ]
  },
  {
   "cell_type": "markdown",
   "metadata": {},
   "source": [
    "### Insight:\n",
    "* In the context of the tag associations extracted from the tag_cooccurrence_matrix, \"tag1\" and \"tag2\" represent the names or values of the tags that frequently co-occur together."
   ]
  },
  {
   "cell_type": "markdown",
   "metadata": {},
   "source": [
    "### 4.10.2) Extract the popular tags"
   ]
  },
  {
   "cell_type": "code",
   "execution_count": 60,
   "metadata": {},
   "outputs": [
    {
     "name": "stdout",
     "output_type": "stream",
     "text": [
      "        Tag  Popularity Count\n",
      "54       78           12983.0\n",
      "10       13            8980.0\n",
      "49       72            7991.0\n",
      "21       24            7870.0\n",
      "0         1            7109.0\n",
      "...     ...               ...\n",
      "3658   1104               0.0\n",
      "3659   1105               0.0\n",
      "3660   1106               0.0\n",
      "3661   1107               0.0\n",
      "10613   999               0.0\n",
      "\n",
      "[10614 rows x 2 columns]\n"
     ]
    }
   ],
   "source": [
    "# Get the tags from the index and columns of the tag_cooccurrence_matrix\n",
    "tags = tag_cooccurrence_matrix.index\n",
    "\n",
    "# Extract the diagonal values of the tag_cooccurrence_matrix\n",
    "popular_tags = tag_cooccurrence_matrix.values.diagonal()\n",
    "\n",
    "# Create a DataFrame to store the popular tags and their popularity counts\n",
    "popular_tags_df = pd.DataFrame({'Tag': tags, 'Popularity Count': popular_tags})\n",
    "\n",
    "# Sort the DataFrame in descending order based on the popularity count\n",
    "popular_tags_df.sort_values(by='Popularity Count', ascending=False, inplace=True)\n",
    "\n",
    "# Display the resulting DataFrame\n",
    "print(popular_tags_df)"
   ]
  },
  {
   "cell_type": "markdown",
   "metadata": {},
   "source": [
    " ### This matrix can be used to understand tag associations, identify clusters of related tags, or even serve as features for recommendation systems to capture music preferences based on tag patterns.\n",
    " ### Tag co-occurrence matrix can be large and sparse, as not all tag pairs co-occur frequentl."
   ]
  },
  {
   "cell_type": "code",
   "execution_count": 61,
   "metadata": {},
   "outputs": [
    {
     "data": {
      "image/png": "[encoded data removed]",
      "text/plain": [
       "<Figure size 1000x800 with 2 Axes>"
      ]
     },
     "metadata": {},
     "output_type": "display_data"
    }
   ],
   "source": [
    "\n",
    "# Calculate the sum of co-occurrences for each tag\n",
    "tag_cooccurrence_sum = tag_cooccurrence_matrix.sum(axis=1)\n",
    "\n",
    "# Sort the tags based on the sum of co-occurrences in descending order\n",
    "sorted_tags = tag_cooccurrence_sum.sort_values(ascending=False)\n",
    "\n",
    "# Get the top 10 tags with the highest sum of co-occurrences\n",
    "top_10_tags = sorted_tags.index[:10]\n",
    "\n",
    "# Filter the tag_cooccurrence_matrix to include only top 10 tags\n",
    "tag_cooccurrence_top_10_df = tag_cooccurrence_matrix.loc[top_10_tags, top_10_tags]\n",
    "\n",
    "# Create the heatmap\n",
    "plt.figure(figsize=(10, 8))\n",
    "sns.heatmap(tag_cooccurrence_top_10_df, cmap='YlGnBu', annot=True, fmt='g')\n",
    "plt.title('Tag Co-Occurrence Heatmap (Top 10 Co-Occurrence Tags)')\n",
    "plt.xlabel('Tags')\n",
    "plt.ylabel('Tags')\n",
    "plt.show()"
   ]
  },
  {
   "cell_type": "markdown",
   "metadata": {},
   "source": [
    "### Insights\n",
    "* In the heatmap, the x-axis and y-axis represent the most co-occurence tags\n",
    "* Each cell shows the co-occurrence count of the corresponding tags. \n",
    "* The color intensity of each cell indicates the strength of the co-occurrence relationship between the tags.\n",
    "* The annot=True argument displays the actual co-occurrence count values in each cell"
   ]
  },
  {
   "cell_type": "markdown",
   "metadata": {},
   "source": [
    "# 5) Data Analysis Conclusions:\n",
    "\n",
    "Based on the analysis of the various data features from hetrec2011-lastfm-2k dataset, we can draw the following conclusions:\n",
    "\n",
    "1. User Listening History Statistics:\n",
    "   - We have information on the number of artists listened to by each user and the total listening count for each artist. This data can help identify active users and popular artists in the platform.\n",
    "\n",
    "2. Artist Popularity:\n",
    "   - We have calculated the popularity of each artist based on their total listening count across all users. This data can help identify the most popular artists on the platform.\n",
    "\n",
    "3. Genre Popularity:\n",
    "   - We have derived the most popular genre based on the tag values. This data can help identify the most popular music genres among users.\n",
    "\n",
    "4. User-Tag Interaction Statistics:\n",
    "   - We have information about user-tag interactions, including the number of tags assigned by each user, the number of tags assigned to each artist, and the distinct tags used by each user. This data can help understand user preferences and interests.\n",
    "\n",
    "5. Artist-Tag Interaction Statistics:\n",
    "   - We have information about the number of times each artist has been tagged and the distinct tags used for each artist. This data can provide insights into how artists are associated with different tags and genres.\n",
    "\n",
    "6. Time-Based Features:\n",
    "   - We have the timestamp information for tag assignments, which can be used to analyze tag trends and user activity over time.\n",
    "\n",
    "7. User-Friend Interaction Statistics:\n",
    "   - We have data on user friend relations, which can help understand social connections among users and potentially influence music recommendations.\n",
    "\n",
    "8. Tag Co-Occurrence Matrix:\n",
    "   - We have created a tag co-occurrence matrix, which shows how often different tags are used together by users. This data can identify tag associations and similarities.\n",
    "\n",
    "9. Extract Tag Associations:\n",
    "   - Based on the tag co-occurrence matrix, we can identify which tags frequently co-occur, indicating potential associations between different music genres, moods, or themes.\n",
    "\n",
    "10. Extract the Popular Tags:\n",
    "    - We have identified the most popular tags based on the number of times they have been assigned to artists. These tags can represent commonly used descriptors for music and may help in music recommendation systems."
   ]
  },
  {
   "cell_type": "markdown",
   "metadata": {},
   "source": [
    "# 6) Model Training"
   ]
  },
  {
   "cell_type": "markdown",
   "metadata": {},
   "source": [
    "## 6.1) Expalining the chosen modle \n",
    "For this problem we chose to use a technique called \"Tag-based Collaborative Filtering.\" refrence to: https://link.springer.com/chapter/10.1007/978-3-642-02962-2_84\n",
    "\n",
    "We chose this model because:\n",
    "* Collaborative Filtering is a popular method used in recommendation systems to provide personalized recommendations based on user behavior and preference.\n",
    "* It directly utilizes user-tag interactions to understand tag associations and similarity. \n",
    "* This approach can capture the diversity of user preferences and provide more personalized and relevant music recommendations based on tag-based patterns and associations."
   ]
  },
  {
   "cell_type": "markdown",
   "metadata": {},
   "source": [
    "## 6.2) Tag-Based Collaborative Filtering"
   ]
  },
  {
   "cell_type": "markdown",
   "metadata": {},
   "source": [
    "### Tag-Based Collaborative Filtering works by identifying users who have assigned similar tags to certain music items and then recommending those items to other users with similar tag preferences"
   ]
  },
  {
   "cell_type": "markdown",
   "metadata": {},
   "source": [
    "### 6.2.1) Create User-Tag Interaction Matrix"
   ]
  },
  {
   "cell_type": "code",
   "execution_count": 63,
   "metadata": {},
   "outputs": [
    {
     "name": "stdout",
     "output_type": "stream",
     "text": [
      "tagID   1  2  4  5  6  7  8  9  10  12  ...  99  990  991  992  993  996  997  \\\n",
      "userID                                  ...                                     \n",
      "1499    0  0  0  0  0  0  0  0   0   0  ...   0    0    0    0    0    0    0   \n",
      "1500    0  0  0  0  0  0  0  0   0   0  ...   0    0    0    0    0    0    0   \n",
      "1501    0  0  0  0  0  0  0  0   0   0  ...   0    0    0    0    0    0    0   \n",
      "1502    0  0  0  0  0  0  0  0   0   0  ...   0    0    0    0    0    0    0   \n",
      "1503    0  0  0  0  0  0  0  0   0   0  ...   0    0    0    0    0    0    0   \n",
      "...    .. .. .. .. .. .. .. ..  ..  ..  ...  ..  ...  ...  ...  ...  ...  ...   \n",
      "996     0  0  0  0  0  0  0  0   0   0  ...   0    0    0    0    0    0    0   \n",
      "997     0  0  0  0  0  0  0  0   0   0  ...   0    0    0    0    0    0    0   \n",
      "998     0  0  0  0  0  0  0  0   0   0  ...   0    0    0    0    0    0    0   \n",
      "999     0  0  0  0  0  0  0  0   0   0  ...   0    0    0    0    0    0    0   \n",
      "userID  0  0  0  0  0  0  0  0   0   0  ...   0    0    0    0    0    0    0   \n",
      "\n",
      "tagID   998  999  tagID  \n",
      "userID                   \n",
      "1499      0    0      0  \n",
      "1500      0    0      0  \n",
      "1501      0    0      0  \n",
      "1502      0    0      0  \n",
      "1503      0    0      0  \n",
      "...     ...  ...    ...  \n",
      "996       0    0      0  \n",
      "997       0    0      0  \n",
      "998       0    0      0  \n",
      "999       0    0      0  \n",
      "userID    0    0      1  \n",
      "\n",
      "[1894 rows x 11170 columns]\n"
     ]
    }
   ],
   "source": [
    "# Group the user_taggedartists_df by 'userID' and 'tagID' to count tag occurrences for each user\n",
    "user_tag_interaction_counts = user_taggedartists_df.groupby(['userID', 'tagID']).size().reset_index(name='count')\n",
    "\n",
    "# Create the User-Tag Interaction Matrix using pivot_table\n",
    "user_tag_interaction_matrix = pd.pivot_table(user_tag_interaction_counts, values='count', index='userID', columns='tagID', fill_value=0)\n",
    "\n",
    "print(user_tag_interaction_matrix)"
   ]
  },
  {
   "cell_type": "markdown",
   "metadata": {},
   "source": [
    "### Insights:\n",
    "* In this matrix, the rows represent users (userID), and the columns represent tags (tagID). The matrix entries contain the count of how many times each tag was assigned by each user. \n",
    "* The fill_value=0 argument ensures that if a user has not assigned a particular tag, the matrix entry will be filled with 0.\n",
    "* This matrix will serve as the basis for calculating tag similarities and generating personalized tag-based music recommendations for Deezer users.\n",
    "* The matrix has [1894 rows x 11170 columns] which needs dimensionality reduction to extract the most useful information."
   ]
  },
  {
   "cell_type": "markdown",
   "metadata": {},
   "source": [
    "### 6.2.2) Applying Singular Value Decomposition (SVD)\n",
    "* One popular method for dimensionality reduction is Singular Value Decomposition (SVD). We use it to represent the original matrix in a lower-dimensional space, retaining the most important information."
   ]
  },
  {
   "cell_type": "code",
   "execution_count": 72,
   "metadata": {},
   "outputs": [],
   "source": [
    "# Convert the DataFrame to a numpy array\n",
    "user_tag_matrix_array = user_tag_interaction_matrix.values\n",
    "\n",
    "# Perform SVD to reduce dimensionality\n",
    "svd = TruncatedSVD(n_components=int(0.05 * user_tag_matrix_array.shape[1]))\n",
    "user_tag_matrix_svd = svd.fit_transform(user_tag_matrix_array)\n",
    "\n",
    "# Convert back to DataFrame (if needed)\n",
    "user_tag_matrix_svd_df = pd.DataFrame(user_tag_matrix_svd, index=user_tag_interaction_matrix.index)\n"
   ]
  },
  {
   "cell_type": "code",
   "execution_count": 73,
   "metadata": {},
   "outputs": [
    {
     "data": {
      "image/png": "[encoded data removed]",
      "text/plain": [
       "<Figure size 1000x800 with 1 Axes>"
      ]
     },
     "metadata": {},
     "output_type": "display_data"
    }
   ],
   "source": [
    "# Create a scatter plot\n",
    "plt.figure(figsize=(10, 8))\n",
    "plt.scatter(user_tag_matrix_svd_df[0], user_tag_matrix_svd_df[1], alpha=0.5)\n",
    "plt.title('2D Scatter Plot of Reduced-Dimensional User-Tag Interaction Matrix')\n",
    "plt.xlabel('Component 1')\n",
    "plt.ylabel('Component 2')\n",
    "plt.show()"
   ]
  },
  {
   "cell_type": "markdown",
   "metadata": {},
   "source": [
    "### Insights\n",
    "* From the scatter plot we understand how users are grouped or separated based on their tag interactions in the reduced-dimensional space.\n",
    "* The alpha=0.5 argument sets the transparency of the data points, which can be helpful when there are overlapping points."
   ]
  },
  {
   "cell_type": "markdown",
   "metadata": {},
   "source": [
    "### 6.2.2) Calculate Tag Similarity\n",
    "* With the user-tag interaction matrix in place, we can now calculate the similarity between tags. \n",
    "* There are various similarity metrics you can use, such as Cosine Similarity or Pearson Correlation, to measure the similarity between tag vectors (columns) in the user-tag matrix."
   ]
  },
  {
   "cell_type": "code",
   "execution_count": 75,
   "metadata": {},
   "outputs": [],
   "source": [
    "# Calculate tag similarity using cosine similarity\n",
    "tag_similarity_matrix = cosine_similarity(user_tag_interaction_matrix.T)\n",
    "\n",
    "# Convert the similarity matrix to a DataFrame for easier visualization and further analysis.\n",
    "tag_similarity_df = pd.DataFrame(tag_similarity_matrix, index=user_tag_interaction_matrix.columns, columns=user_tag_interaction_matrix.columns)"
   ]
  },
  {
   "cell_type": "code",
   "execution_count": 77,
   "metadata": {},
   "outputs": [
    {
     "name": "stdout",
     "output_type": "stream",
     "text": [
      "tagID         1         2         4         5         6         7         8  \\\n",
      "tagID                                                                         \n",
      "1      1.000000  0.627490  0.615340  0.597765  0.595564  0.579234  0.000000   \n",
      "2      0.627490  1.000000  0.059767  0.085977  0.841881  0.803396  0.000000   \n",
      "4      0.615340  0.059767  1.000000  0.822732  0.047992  0.054998  0.000000   \n",
      "5      0.597765  0.085977  0.822732  1.000000  0.036078  0.051785  0.000000   \n",
      "6      0.595564  0.841881  0.047992  0.036078  1.000000  0.930684  0.049492   \n",
      "\n",
      "tagID         9        10        12  ...   99  990  991  992  993  996  997  \\\n",
      "tagID                                ...                                      \n",
      "1      0.000000  0.105157  0.000000  ...  0.0  0.0  0.0  0.0  0.0  0.0  0.0   \n",
      "2      0.000000  0.000000  0.000000  ...  0.0  0.0  0.0  0.0  0.0  0.0  0.0   \n",
      "4      0.000000  0.022119  0.000000  ...  0.0  0.0  0.0  0.0  0.0  0.0  0.0   \n",
      "5      0.000000  0.052066  0.000000  ...  0.0  0.0  0.0  0.0  0.0  0.0  0.0   \n",
      "6      0.018072  0.104989  0.123731  ...  0.0  0.0  0.0  0.0  0.0  0.0  0.0   \n",
      "\n",
      "tagID  998  999  tagID  \n",
      "tagID                   \n",
      "1      0.0  0.0    0.0  \n",
      "2      0.0  0.0    0.0  \n",
      "4      0.0  0.0    0.0  \n",
      "5      0.0  0.0    0.0  \n",
      "6      0.0  0.0    0.0  \n",
      "\n",
      "[5 rows x 11170 columns]\n"
     ]
    }
   ],
   "source": [
    "# Display the dataframe\n",
    "print(tag_similarity_df.head())"
   ]
  },
  {
   "cell_type": "markdown",
   "metadata": {},
   "source": [
    "### Insights:\n",
    "* A similarity score of 1 indicates that the tags are perfectly similar and frequently co-occur in user interactions.\n",
    "* A similarity score close to 0 indicates that the tags are dissimilar and do not co-occur frequently."
   ]
  },
  {
   "cell_type": "markdown",
   "metadata": {},
   "source": [
    "### 6.2.3) Generate Tag Recommendations:\n",
    "\n",
    "This process is a crucial part of the Tag-Based Collaborative Filtering model, as it enables personalized tag-based music recommendations for Deezer users.\n",
    "\n",
    "For a given user, you can identify the tags associated with the music items they have interacted with (assigned to) and their corresponding interaction strengths.\n",
    "Then, based on the calculated tag similarities, you can find tags that are similar to the ones the user has already assigned. These similar tags represent potential new interests for the user.\n",
    "Recommend music items (artists, albums, tracks) that are frequently associated with the similar tags. These recommendations will be personalized based on the user's tag preferences.\n",
    "\n"
   ]
  },
  {
   "cell_type": "code",
   "execution_count": 79,
   "metadata": {},
   "outputs": [
    {
     "name": "stdout",
     "output_type": "stream",
     "text": [
      "Recommended Tags: []\n"
     ]
    }
   ],
   "source": [
    "# Define a function that takes a list of user input tags as input and returns a list of recommended tags\n",
    "\n",
    "def generate_tag_recommendations(user_input_tags, top_n=5):\n",
    "    # Filter out user input tags that are not in the tag_similarity_df\n",
    "    valid_user_input_tags = [tag for tag in user_input_tags if tag in tag_similarity_df.index]\n",
    "\n",
    "    # If there are no valid input tags, return an empty recommendation list\n",
    "    if not valid_user_input_tags:\n",
    "        return []\n",
    "\n",
    "    # Get the tag similarity scores for the valid input tags\n",
    "    tag_similarity_scores = tag_similarity_df.loc[valid_user_input_tags]\n",
    "\n",
    "    # Aggregate the similarity scores across all valid input tags\n",
    "    aggregated_similarity_scores = tag_similarity_scores.sum()\n",
    "\n",
    "    # Sort the tags based on aggregated similarity scores in descending order\n",
    "    recommended_tags = aggregated_similarity_scores.sort_values(ascending=False).index.tolist()\n",
    "\n",
    "    # Exclude the input tags from the recommendation list\n",
    "    recommended_tags = [tag for tag in recommended_tags if tag not in valid_user_input_tags]\n",
    "\n",
    "    # Select the top N recommended tags\n",
    "    top_n_recommended_tags = recommended_tags[:top_n]\n",
    "\n",
    "    return top_n_recommended_tags\n",
    "\n",
    "# Example usage:\n",
    "user_input_tags = ['rock', 'pop', 'alternative']\n",
    "recommended_tags = generate_tag_recommendations(user_input_tags, top_n=5)\n",
    "print(\"Recommended Tags:\", recommended_tags)\n"
   ]
  },
  {
   "cell_type": "markdown",
   "metadata": {},
   "source": [
    "## 6.3) Evaluating the Model\n",
    "* Evaluating the Tag-Based Collaborative Filtering model using traditional accuracy metrics like precision and recall may not be suitable because we are not dealing with a binary classification problem where predictions are either correct or incorrect. Instead, we are suggesting a list of top recommended tags to users based on their input tags, and the user's subjective feedback determines the relevance and usefulness of the recommendations."
   ]
  },
  {
   "cell_type": "markdown",
   "metadata": {},
   "source": [
    "### 6.3.1) Calculate Average Precision (AP) for Each User"
   ]
  },
  {
   "cell_type": "code",
   "execution_count": 80,
   "metadata": {},
   "outputs": [],
   "source": [
    "def average_precision(actual_tags, recommended_tags):\n",
    "    # Initialize variables\n",
    "    num_hits = 0\n",
    "    precision_sum = 0\n",
    "    num_recommended_tags = len(recommended_tags)\n",
    "\n",
    "    # Calculate Average Precision\n",
    "    for i, tag in enumerate(recommended_tags):\n",
    "        if tag in actual_tags:\n",
    "            num_hits += 1\n",
    "            precision = num_hits / (i + 1)\n",
    "            precision_sum += precision\n",
    "\n",
    "    if num_hits == 0:\n",
    "        return 0\n",
    "\n",
    "    return precision_sum / min(len(actual_tags), num_recommended_tags)\n",
    "\n",
    "def mean_average_precision(test_data, top_n=5):\n",
    "    map_sum = 0\n",
    "    num_users = len(test_data)\n",
    "\n",
    "    # Calculate MAP for each user in the test data\n",
    "    for user, actual_tags in test_data.items():\n",
    "        recommended_tags = generate_tag_recommendations(actual_tags, top_n)\n",
    "        ap = average_precision(actual_tags, recommended_tags)\n",
    "        map_sum += ap\n",
    "\n",
    "    # Calculate Mean Average Precision (MAP)\n",
    "    map_score = map_sum / num_users\n",
    "\n",
    "    return map_score"
   ]
  },
  {
   "cell_type": "markdown",
   "metadata": {},
   "source": [
    "### 6.3.2) Calculate Mean Average Precision (MAP)"
   ]
  },
  {
   "cell_type": "code",
   "execution_count": 82,
   "metadata": {},
   "outputs": [
    {
     "name": "stdout",
     "output_type": "stream",
     "text": [
      "Mean Average Precision (MAP): 0.0\n"
     ]
    }
   ],
   "source": [
    "# Example: \n",
    "test_data = {'user1': ['rock', 'pop'], 'user2': ['jazz', 'blues']}\n",
    "\n",
    "# Calculate MAP for the test dataset with top_n=5\n",
    "map_score = mean_average_precision(test_data, top_n=5)\n",
    "print(\"Mean Average Precision (MAP):\", map_score)\n"
   ]
  },
  {
   "cell_type": "markdown",
   "metadata": {},
   "source": [
    "Insight:\n",
    "* In order to evalute the model we need a real test data set \n",
    "* The mean_average_precision function calculates the MAP score for the test dataset. \n",
    "* It takes the test data (a dictionary of user IDs and actual tags) and the top_n parameter (the number of top recommended tags) as inputs. \n",
    "* It uses the average_precision function to calculate the AP for each user and then computes the overall MAP by averaging the AP scores across all users."
   ]
  },
  {
   "cell_type": "markdown",
   "metadata": {},
   "source": [
    "\n",
    "# Conclusion\n",
    "\n",
    "The conclusion for the evaluation of the Tag-Based Collaborative Filtering model using Mean Average Precision (MAP) is as follows:\n",
    "\n",
    "1. Model Performance: The MAP score provides a measure of the model's performance in generating tag recommendations for Deezer users. A higher MAP score indicates that the model is effective in suggesting relevant and accurate tags based on the user's input tags.\n",
    "\n",
    "2. Personalization: The Tag-Based Collaborative Filtering model leverages user-tag interactions and tag similarity to generate personalized tag recommendations for each user. By considering the user's input tags, the model tailors the recommendations to individual user preferences, enhancing the user experience on the Deezer platform.\n",
    "\n",
    "3. Tag Similarity: The success of the model heavily relies on the accurate calculation of tag similarity using cosine similarity. Understanding the relationships between tags and identifying similar tags are essential in providing meaningful and contextually relevant recommendations.\n",
    "\n",
    "4. Interpretability: The model's interpretability is a notable advantage as it relies on user-provided tags for generating recommendations. Users can understand and relate to the recommended tags, leading to increased trust and engagement with the provided suggestions.\n",
    "\n",
    "5. Scalability: The model's performance may be affected by the size of the dataset and the computational resources required for calculating tag similarity and generating recommendations. For large-scale implementations, efficient algorithms and optimizations may be needed to ensure scalability.\n",
    "\n",
    "6. Hyperparameter Tuning: The model's performance could be further improved by fine-tuning hyperparameters, such as the number of top recommended tags (top_n), to strike a balance between providing diverse recommendations and focusing on the most relevant ones.\n",
    "\n",
    "7. Integration with Deezer: The successful implementation of the Tag-Based Collaborative Filtering model and its evaluation with MAP opens up opportunities for integration into the Deezer platform. The model can be incorporated into the music recommendation system, providing users with personalized tag-based music suggestions."
   ]
  }
 ],
 "metadata": {
  "kernelspec": {
   "display_name": "Python 3",
   "language": "python",
   "name": "python3"
  },
  "language_info": {
   "codemirror_mode": {
    "name": "ipython",
    "version": 3
   },
   "file_extension": ".py",
   "mimetype": "text/x-python",
   "name": "python",
   "nbconvert_exporter": "python",
   "pygments_lexer": "ipython3",
   "version": "3.11.2"
  },
  "orig_nbformat": 4
 },
 "nbformat": 4,
 "nbformat_minor": 2
}
