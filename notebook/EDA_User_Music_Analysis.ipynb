{
 "cells": [
  {
   "cell_type": "markdown",
   "metadata": {},
   "source": [
    "# Deezer Music Consumption Analysis\n",
    "## Life cycle of the project\n",
    "\n",
    "\n",
    "* Understanding the Problem Statement\n",
    "* Data Collection\n",
    "* Data Checks to perform\n",
    "* Exploratory Data Analysis\n",
    "* Data Per-Processing Modle\n",
    "* Traning Choose Best Model"
   ]
  },
  {
   "cell_type": "markdown",
   "metadata": {},
   "source": [
    "# 1) Problem Statement\n",
    "\n",
    "* Providing a modelling of a tag system and studying the similarities between tags, in order to gain a better understanding of the musical consumption of Deezer users - notably regarding the content played, searched and saved."
   ]
  },
  {
   "cell_type": "markdown",
   "metadata": {},
   "source": [
    "# 2) Data Collection\n",
    "* The dataset is released in the framework of the 2nd International Workshop on Information Heterogeneity and Fusion in Recommender Systems (HetRec 2011) http://ir.ii.uam.es/hetrec2011"
   ]
  },
  {
   "cell_type": "markdown",
   "metadata": {},
   "source": [
    "## 2.1) Importing data and the required packages"
   ]
  },
  {
   "cell_type": "markdown",
   "metadata": {},
   "source": [
    "### 2.1.1) Importing Pandas, Numpy, Matplotlib, Seaborn"
   ]
  },
  {
   "cell_type": "code",
   "execution_count": 1,
   "metadata": {},
   "outputs": [],
   "source": [
    "import numpy as np\n",
    "import pandas as pd\n",
    "import seaborn as sns\n",
    "import matplotlib.pyplot as plt\n",
    "import warnings\n",
    "warnings.filterwarnings('ignore')"
   ]
  },
  {
   "cell_type": "markdown",
   "metadata": {},
   "source": [
    "### 2.1.2) Import data hetrec2011-lastfm-2k and read each file as Pandas DataFrame"
   ]
  },
  {
   "cell_type": "code",
   "execution_count": 4,
   "metadata": {},
   "outputs": [],
   "source": [
    "artists_df = pd.read_csv('data/artists.dat', sep='\\t', names=['artistID', 'name', 'url', 'pictureURL'])\n",
    "tags_df = pd.read_csv('data/tags.dat', sep='\\t', names=['tagID', 'tagValue'], encoding='latin-1')\n",
    "user_artists_df = pd.read_csv('data/user_artists.dat', sep='\\t', names=['userID', 'artistID', 'weight'])\n",
    "user_taggedartists_df = pd.read_csv('data/user_taggedartists.dat', sep='\\t', names=['userID', 'artistID', 'tagID', 'day', 'month', 'year'])\n",
    "user_taggedartists_timestamps_df = pd.read_csv('data/user_taggedartists-timestamps.dat', sep='\\t', names=['userID', 'artistID', 'tagID', 'timestamp'])\n",
    "user_friends_df = pd.read_csv('data/user_friends.dat', sep='\\t', names=['userID', 'friendID'])"
   ]
  },
  {
   "cell_type": "markdown",
   "metadata": {},
   "source": [
    "### 2.1.3) Display the information and the first five rows of each DataFrame"
   ]
  },
  {
   "cell_type": "code",
   "execution_count": 20,
   "metadata": {},
   "outputs": [
    {
     "name": "stdout",
     "output_type": "stream",
     "text": [
      "<class 'pandas.core.frame.DataFrame'>\n",
      "RangeIndex: 17633 entries, 0 to 17632\n",
      "Data columns (total 4 columns):\n",
      " #   Column      Non-Null Count  Dtype \n",
      "---  ------      --------------  ----- \n",
      " 0   artistID    17633 non-null  object\n",
      " 1   name        17633 non-null  object\n",
      " 2   url         17633 non-null  object\n",
      " 3   pictureURL  17189 non-null  object\n",
      "dtypes: object(4)\n",
      "memory usage: 551.2+ KB\n",
      "  artistID               name                                         url  \\\n",
      "0       id               name                                         url   \n",
      "1        1       MALICE MIZER       http://www.last.fm/music/MALICE+MIZER   \n",
      "2        2    Diary of Dreams    http://www.last.fm/music/Diary+of+Dreams   \n",
      "3        3  Carpathian Forest  http://www.last.fm/music/Carpathian+Forest   \n",
      "4        4       Moi dix Mois       http://www.last.fm/music/Moi+dix+Mois   \n",
      "\n",
      "                                          pictureURL  \n",
      "0                                         pictureURL  \n",
      "1    http://userserve-ak.last.fm/serve/252/10808.jpg  \n",
      "2  http://userserve-ak.last.fm/serve/252/3052066.jpg  \n",
      "3  http://userserve-ak.last.fm/serve/252/40222717...  \n",
      "4  http://userserve-ak.last.fm/serve/252/54697835...  \n"
     ]
    }
   ],
   "source": [
    "artists_df.info()\n",
    "print(artists_df.head())"
   ]
  },
  {
   "cell_type": "code",
   "execution_count": 21,
   "metadata": {},
   "outputs": [
    {
     "name": "stdout",
     "output_type": "stream",
     "text": [
      "<class 'pandas.core.frame.DataFrame'>\n",
      "RangeIndex: 11947 entries, 0 to 11946\n",
      "Data columns (total 2 columns):\n",
      " #   Column    Non-Null Count  Dtype \n",
      "---  ------    --------------  ----- \n",
      " 0   tagID     11947 non-null  object\n",
      " 1   tagValue  11947 non-null  object\n",
      "dtypes: object(2)\n",
      "memory usage: 186.8+ KB\n",
      "   tagID           tagValue\n",
      "0  tagID           tagValue\n",
      "1      1              metal\n",
      "2      2  alternative metal\n",
      "3      3          goth rock\n",
      "4      4        black metal\n"
     ]
    }
   ],
   "source": [
    "tags_df.info()\n",
    "print(tags_df.head())"
   ]
  },
  {
   "cell_type": "code",
   "execution_count": 22,
   "metadata": {},
   "outputs": [
    {
     "name": "stdout",
     "output_type": "stream",
     "text": [
      "<class 'pandas.core.frame.DataFrame'>\n",
      "RangeIndex: 92835 entries, 0 to 92834\n",
      "Data columns (total 3 columns):\n",
      " #   Column    Non-Null Count  Dtype \n",
      "---  ------    --------------  ----- \n",
      " 0   userID    92835 non-null  object\n",
      " 1   artistID  92835 non-null  object\n",
      " 2   weight    92835 non-null  object\n",
      "dtypes: object(3)\n",
      "memory usage: 2.1+ MB\n",
      "   userID  artistID  weight\n",
      "0  userID  artistID  weight\n",
      "1       2        51   13883\n",
      "2       2        52   11690\n",
      "3       2        53   11351\n",
      "4       2        54   10300\n"
     ]
    }
   ],
   "source": [
    "user_artists_df.info()\n",
    "print(user_artists_df.head())"
   ]
  },
  {
   "cell_type": "code",
   "execution_count": 23,
   "metadata": {},
   "outputs": [
    {
     "name": "stdout",
     "output_type": "stream",
     "text": [
      "<class 'pandas.core.frame.DataFrame'>\n",
      "RangeIndex: 186480 entries, 0 to 186479\n",
      "Data columns (total 6 columns):\n",
      " #   Column    Non-Null Count   Dtype \n",
      "---  ------    --------------   ----- \n",
      " 0   userID    186480 non-null  object\n",
      " 1   artistID  186480 non-null  object\n",
      " 2   tagID     186480 non-null  object\n",
      " 3   day       186480 non-null  object\n",
      " 4   month     186480 non-null  object\n",
      " 5   year      186480 non-null  object\n",
      "dtypes: object(6)\n",
      "memory usage: 8.5+ MB\n",
      "   userID  artistID  tagID  day  month  year\n",
      "0  userID  artistID  tagID  day  month  year\n",
      "1       2        52     13    1      4  2009\n",
      "2       2        52     15    1      4  2009\n",
      "3       2        52     18    1      4  2009\n",
      "4       2        52     21    1      4  2009\n"
     ]
    }
   ],
   "source": [
    "user_taggedartists_df.info()\n",
    "print(user_taggedartists_df.head())"
   ]
  },
  {
   "cell_type": "code",
   "execution_count": 24,
   "metadata": {},
   "outputs": [
    {
     "name": "stdout",
     "output_type": "stream",
     "text": [
      "<class 'pandas.core.frame.DataFrame'>\n",
      "RangeIndex: 186480 entries, 0 to 186479\n",
      "Data columns (total 4 columns):\n",
      " #   Column     Non-Null Count   Dtype \n",
      "---  ------     --------------   ----- \n",
      " 0   userID     186480 non-null  object\n",
      " 1   artistID   186480 non-null  object\n",
      " 2   tagID      186480 non-null  object\n",
      " 3   timestamp  186480 non-null  object\n",
      "dtypes: object(4)\n",
      "memory usage: 5.7+ MB\n",
      "   userID  artistID  tagID      timestamp\n",
      "0  userID  artistID  tagID      timestamp\n",
      "1       2        52     13  1238536800000\n",
      "2       2        52     15  1238536800000\n",
      "3       2        52     18  1238536800000\n",
      "4       2        52     21  1238536800000\n"
     ]
    }
   ],
   "source": [
    "user_taggedartists_timestamps_df.info()\n",
    "print(user_taggedartists_timestamps_df.head())"
   ]
  },
  {
   "cell_type": "code",
   "execution_count": 25,
   "metadata": {},
   "outputs": [
    {
     "name": "stdout",
     "output_type": "stream",
     "text": [
      "<class 'pandas.core.frame.DataFrame'>\n",
      "RangeIndex: 25435 entries, 0 to 25434\n",
      "Data columns (total 2 columns):\n",
      " #   Column    Non-Null Count  Dtype \n",
      "---  ------    --------------  ----- \n",
      " 0   userID    25435 non-null  object\n",
      " 1   friendID  25435 non-null  object\n",
      "dtypes: object(2)\n",
      "memory usage: 397.6+ KB\n",
      "   userID  friendID\n",
      "0  userID  friendID\n",
      "1       2       275\n",
      "2       2       428\n",
      "3       2       515\n",
      "4       2       761\n"
     ]
    }
   ],
   "source": [
    "user_friends_df.info()\n",
    "print(user_friends_df.head())"
   ]
  },
  {
   "cell_type": "markdown",
   "metadata": {},
   "source": [
    "### 2.1.4) Show the shape of each DataFrame"
   ]
  },
  {
   "cell_type": "code",
   "execution_count": 12,
   "metadata": {},
   "outputs": [
    {
     "name": "stdout",
     "output_type": "stream",
     "text": [
      "1- artists_df dimentions:  (17633, 4)\n",
      "2- tags_df:  (11947, 2)\n",
      "3- user_artists_df dimentions:  (92835, 3)\n",
      "4- user_friends_df dimentions:  (25435, 2)\n",
      "5- user_taggedartists_timestamps_df dimentions:  (186480, 4)\n",
      "6- user_taggedartists_df dimentions:  (186480, 6)\n"
     ]
    }
   ],
   "source": [
    "print('1- artists_df dimentions: ', artists_df.shape)\n",
    "print('2- tags_df: ', tags_df.shape)\n",
    "print('3- user_artists_df dimentions: ', user_artists_df.shape)\n",
    "print('4- user_friends_df dimentions: ', user_friends_df.shape)\n",
    "print('5- user_taggedartists_timestamps_df dimentions: ', user_taggedartists_timestamps_df.shape)\n",
    "print('6- user_taggedartists_df dimentions: ', user_taggedartists_df.shape)"
   ]
  },
  {
   "cell_type": "markdown",
   "metadata": {},
   "source": [
    "## 2.2) Dataset information\n",
    "\n",
    "The package contains 6 files with the following description:\n",
    "   \n",
    "   * artists.dat\n",
    "   \n",
    "     This file contains information about music artists listened and tagged by the users.\n",
    "   \n",
    "   * tags.dat\n",
    "   \n",
    "   \t This file contains the set of tags available in the dataset.\n",
    "\n",
    "   * user_artists.dat\n",
    "   \n",
    "     This file contains the artists listened by each user.\n",
    "        \n",
    "     It also provides a listening count for each [user, artist] pair.\n",
    "\n",
    "   * user_taggedartists.dat - user_taggedartists-timestamps.dat\n",
    "   \n",
    "     These files contain the tag assignments of artists provided by each particular user.\n",
    "        \n",
    "     They also contain the timestamps when the tag assignments were done.\n",
    "   \n",
    "   * user_friends.dat\n",
    "   \n",
    "   \t These files contain the friend relations between users in the database."
   ]
  },
  {
   "cell_type": "markdown",
   "metadata": {},
   "source": [
    "# 3) Data checks to perform\n",
    "* Check missing values\n",
    "* Check duplicates\n",
    "* Check data types\n",
    "* Check the number of unique values of each column\n",
    "* Check statistics of Dataset\n",
    "* Check various categories present in different categorical columns"
   ]
  },
  {
   "cell_type": "markdown",
   "metadata": {},
   "source": [
    "## 3.1) check missing values"
   ]
  },
  {
   "cell_type": "code",
   "execution_count": 18,
   "metadata": {},
   "outputs": [
    {
     "data": {
      "text/plain": [
       "tagID       0\n",
       "tagValue    0\n",
       "dtype: int64"
      ]
     },
     "execution_count": 18,
     "metadata": {},
     "output_type": "execute_result"
    }
   ],
   "source": [
    "artists_df.isna().sum()\n",
    "tags_df.isna().sum()"
   ]
  }
 ],
 "metadata": {
  "kernelspec": {
   "display_name": "Python 3",
   "language": "python",
   "name": "python3"
  },
  "language_info": {
   "codemirror_mode": {
    "name": "ipython",
    "version": 3
   },
   "file_extension": ".py",
   "mimetype": "text/x-python",
   "name": "python",
   "nbconvert_exporter": "python",
   "pygments_lexer": "ipython3",
   "version": "3.11.2"
  },
  "orig_nbformat": 4
 },
 "nbformat": 4,
 "nbformat_minor": 2
}
